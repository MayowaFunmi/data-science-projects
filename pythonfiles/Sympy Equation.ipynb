{
 "cells": [
  {
   "cell_type": "code",
   "execution_count": 1,
   "id": "8ca2d11c",
   "metadata": {},
   "outputs": [],
   "source": [
    "import sympy as sp\n",
    "\n",
    "x, y, z = sp.symbols('x, y, z')\n"
   ]
  },
  {
   "cell_type": "code",
   "execution_count": 2,
   "id": "a02a64ca",
   "metadata": {},
   "outputs": [
    {
     "data": {
      "text/latex": [
       "$\\displaystyle x^{2} = 5$"
      ],
      "text/plain": [
       "Eq(x**2, 5)"
      ]
     },
     "execution_count": 2,
     "metadata": {},
     "output_type": "execute_result"
    }
   ],
   "source": [
    "# define an equation\n",
    "eq = sp.Eq(x**2, 5)\n",
    "eq"
   ]
  },
  {
   "cell_type": "code",
   "execution_count": 3,
   "id": "455eca55",
   "metadata": {},
   "outputs": [
    {
     "data": {
      "text/latex": [
       "$\\displaystyle \\left\\{- \\sqrt{5}, \\sqrt{5}\\right\\}$"
      ],
      "text/plain": [
       "FiniteSet(sqrt(5), -sqrt(5))"
      ]
     },
     "execution_count": 3,
     "metadata": {},
     "output_type": "execute_result"
    }
   ],
   "source": [
    "# solve the equation using solveset\n",
    "sp.solveset(eq)"
   ]
  },
  {
   "cell_type": "code",
   "execution_count": 4,
   "id": "86b10e68",
   "metadata": {},
   "outputs": [
    {
     "data": {
      "text/plain": [
       "[sqrt(5), -sqrt(5)]"
      ]
     },
     "execution_count": 4,
     "metadata": {},
     "output_type": "execute_result"
    }
   ],
   "source": [
    "# extract the solution\n",
    "list(sp.solveset(eq))"
   ]
  },
  {
   "cell_type": "code",
   "execution_count": 6,
   "id": "6f3893ef",
   "metadata": {},
   "outputs": [
    {
     "data": {
      "text/latex": [
       "$\\displaystyle - \\sqrt{5}$"
      ],
      "text/plain": [
       "-sqrt(5)"
      ]
     },
     "execution_count": 6,
     "metadata": {},
     "output_type": "execute_result"
    }
   ],
   "source": [
    "list(sp.solveset(eq))[1]"
   ]
  },
  {
   "cell_type": "markdown",
   "id": "84487556",
   "metadata": {},
   "source": [
    "# defining equati"
   ]
  },
  {
   "cell_type": "code",
   "execution_count": null,
   "id": "cb6b6595",
   "metadata": {},
   "outputs": [],
   "source": [
    "eq2 = sp.Eq(so.cos()x)tan                                                                                                                                                                                                                                                                                                                                                                          "
   ]
  }
 ],
 "metadata": {
  "kernelspec": {
   "display_name": "Python 3 (ipykernel)",
   "language": "python",
   "name": "python3"
  },
  "language_info": {
   "codemirror_mode": {
    "name": "ipython",
    "version": 3
   },
   "file_extension": ".py",
   "mimetype": "text/x-python",
   "name": "python",
   "nbconvert_exporter": "python",
   "pygments_lexer": "ipython3",
   "version": "3.8.8"
  }
 },
 "nbformat": 4,
 "nbformat_minor": 5
}
