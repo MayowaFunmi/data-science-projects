{
 "cells": [
  {
   "cell_type": "code",
   "execution_count": 2,
   "id": "3a382880",
   "metadata": {},
   "outputs": [],
   "source": [
    "import numpy as np\n",
    "import time\n",
    "import sys"
   ]
  },
  {
   "cell_type": "markdown",
   "id": "82309698",
   "metadata": {},
   "source": [
    "# compare python list size and numpy size"
   ]
  },
  {
   "cell_type": "code",
   "execution_count": 8,
   "id": "75e7cd36",
   "metadata": {},
   "outputs": [
    {
     "name": "stdout",
     "output_type": "stream",
     "text": [
      "28000\n"
     ]
    }
   ],
   "source": [
    "b = range(1000)\n",
    "print(sys.getsizeof(5) * len(b))"
   ]
  },
  {
   "cell_type": "code",
   "execution_count": 7,
   "id": "a66d82e3",
   "metadata": {},
   "outputs": [
    {
     "name": "stdout",
     "output_type": "stream",
     "text": [
      "8000\n"
     ]
    }
   ],
   "source": [
    "c = np.arange(1000)\n",
    "print(c.size * c.itemsize)"
   ]
  },
  {
   "cell_type": "markdown",
   "id": "3309f97e",
   "metadata": {},
   "source": [
    "# # compare python list speed and numpy speed"
   ]
  },
  {
   "cell_type": "code",
   "execution_count": 9,
   "id": "d461eb74",
   "metadata": {},
   "outputs": [],
   "source": [
    "size = 100000"
   ]
  },
  {
   "cell_type": "markdown",
   "id": "75db3328",
   "metadata": {},
   "source": [
    "# for python list"
   ]
  },
  {
   "cell_type": "code",
   "execution_count": 13,
   "id": "2d8407bf",
   "metadata": {},
   "outputs": [
    {
     "name": "stdout",
     "output_type": "stream",
     "text": [
      "Python list took: 43.43771934509277\n"
     ]
    }
   ],
   "source": [
    "l1 = range(size)\n",
    "l2 = range(size)\n",
    "start = time.time()\n",
    "result = [(x + y) for x, y in zip(l1, l2)]\n",
    "result = [(x + y) for x, y in zip(l1, l2)]\n",
    "#print(result)\n",
    "print(\"Python list took:\", (time.time() - start) * 1000)"
   ]
  },
  {
   "cell_type": "markdown",
   "id": "39ca33f0",
   "metadata": {},
   "source": [
    "# for numpy"
   ]
  },
  {
   "cell_type": "code",
   "execution_count": 20,
   "id": "3d32f262",
   "metadata": {},
   "outputs": [
    {
     "name": "stdout",
     "output_type": "stream",
     "text": [
      "Numpy array took: 0.6635189056396484\n"
     ]
    }
   ],
   "source": [
    "a1 = np.arange(size)\n",
    "a2 = np.arange(size)\n",
    "start = time.time()\n",
    "result = a1 + a2\n",
    "print(\"Numpy array took:\", (time.time() - start) * 1000)"
   ]
  },
  {
   "cell_type": "markdown",
   "id": "5c4bd1ca",
   "metadata": {},
   "source": [
    "# numpy tutorial"
   ]
  },
  {
   "cell_type": "code",
   "execution_count": 22,
   "id": "3f8a7dd9",
   "metadata": {},
   "outputs": [
    {
     "name": "stdout",
     "output_type": "stream",
     "text": [
      "a=  [1 2 3 4 5]\n",
      "b=  [-4  6  0]\n"
     ]
    }
   ],
   "source": [
    "a = np.array([1, 2, 3, 4, 5])\n",
    "b = np.array([-4, 6, 0])\n",
    "print('a= ', a)\n",
    "print('b= ', b)"
   ]
  },
  {
   "cell_type": "code",
   "execution_count": 23,
   "id": "aff178d0",
   "metadata": {},
   "outputs": [
    {
     "data": {
      "text/plain": [
       "numpy.ndarray"
      ]
     },
     "execution_count": 23,
     "metadata": {},
     "output_type": "execute_result"
    }
   ],
   "source": [
    "type(a)"
   ]
  },
  {
   "cell_type": "code",
   "execution_count": 24,
   "id": "6b6e46d3",
   "metadata": {},
   "outputs": [
    {
     "data": {
      "text/plain": [
       "dtype('int64')"
      ]
     },
     "execution_count": 24,
     "metadata": {},
     "output_type": "execute_result"
    }
   ],
   "source": [
    "a.dtype"
   ]
  },
  {
   "cell_type": "code",
   "execution_count": 25,
   "id": "826b016a",
   "metadata": {},
   "outputs": [
    {
     "data": {
      "text/plain": [
       "dtype('int64')"
      ]
     },
     "execution_count": 25,
     "metadata": {},
     "output_type": "execute_result"
    }
   ],
   "source": [
    "b.dtype"
   ]
  },
  {
   "cell_type": "code",
   "execution_count": 31,
   "id": "c2731221",
   "metadata": {},
   "outputs": [],
   "source": [
    "# declare the datatype of variables\n",
    "#a = np.array([1, 2, 3, 4, 5], dtype='i')\n",
    "#b = np.array([-4, 6, 0], dtype='f')"
   ]
  },
  {
   "cell_type": "code",
   "execution_count": 48,
   "id": "568ae3a5",
   "metadata": {},
   "outputs": [
    {
     "data": {
      "text/plain": [
       "2"
      ]
     },
     "execution_count": 48,
     "metadata": {},
     "output_type": "execute_result"
    }
   ],
   "source": [
    "c = np.array([[1, 2, 3], [4, 5, 6]])\n",
    "d = np.array([[1, 2, 3], [4, 5, 6], [7, 8, 9]])\n",
    "e = np.array([[1, 2, 3], [4, 5, 6], [7, 8, 9], [-3, 4, 9]])\n",
    "\n",
    "c.ndim"
   ]
  },
  {
   "cell_type": "code",
   "execution_count": 35,
   "id": "0db88e45",
   "metadata": {},
   "outputs": [
    {
     "data": {
      "text/plain": [
       "2"
      ]
     },
     "execution_count": 35,
     "metadata": {},
     "output_type": "execute_result"
    }
   ],
   "source": [
    "d.ndim"
   ]
  },
  {
   "cell_type": "code",
   "execution_count": 44,
   "id": "122809ef",
   "metadata": {},
   "outputs": [
    {
     "data": {
      "text/plain": [
       "array([[ 1,  2,  3],\n",
       "       [ 4,  5,  6],\n",
       "       [ 7,  8,  9],\n",
       "       [-3,  4,  9]])"
      ]
     },
     "execution_count": 44,
     "metadata": {},
     "output_type": "execute_result"
    }
   ],
   "source": [
    "e"
   ]
  },
  {
   "cell_type": "code",
   "execution_count": 41,
   "id": "dbc1ac24",
   "metadata": {},
   "outputs": [
    {
     "data": {
      "text/plain": [
       "-3"
      ]
     },
     "execution_count": 41,
     "metadata": {},
     "output_type": "execute_result"
    }
   ],
   "source": [
    "e[3,0]"
   ]
  },
  {
   "cell_type": "code",
   "execution_count": 42,
   "id": "7c86de15",
   "metadata": {},
   "outputs": [
    {
     "data": {
      "text/plain": [
       "array([[[1, 2, 3],\n",
       "        [4, 5, 6],\n",
       "        [7, 8, 9]],\n",
       "\n",
       "       [[1, 2, 3],\n",
       "        [4, 5, 6],\n",
       "        [7, 8, 9]]])"
      ]
     },
     "execution_count": 42,
     "metadata": {},
     "output_type": "execute_result"
    }
   ],
   "source": [
    "f = np.array([[[1, 2, 3], [4, 5, 6], [7, 8, 9]], [[1, 2, 3], [4, 5, 6], [7, 8, 9]]])\n",
    "f"
   ]
  },
  {
   "cell_type": "code",
   "execution_count": 43,
   "id": "f4d01c4e",
   "metadata": {},
   "outputs": [
    {
     "data": {
      "text/plain": [
       "3"
      ]
     },
     "execution_count": 43,
     "metadata": {},
     "output_type": "execute_result"
    }
   ],
   "source": [
    "f.ndim"
   ]
  },
  {
   "cell_type": "code",
   "execution_count": 45,
   "id": "6b70ba28",
   "metadata": {},
   "outputs": [
    {
     "data": {
      "text/plain": [
       "array([1, 2, 3])"
      ]
     },
     "execution_count": 45,
     "metadata": {},
     "output_type": "execute_result"
    }
   ],
   "source": [
    "f[1, 0]"
   ]
  },
  {
   "cell_type": "code",
   "execution_count": 46,
   "id": "ca1c77e1",
   "metadata": {},
   "outputs": [
    {
     "data": {
      "text/plain": [
       "3"
      ]
     },
     "execution_count": 46,
     "metadata": {},
     "output_type": "execute_result"
    }
   ],
   "source": [
    "f[1, 0, 2]"
   ]
  },
  {
   "cell_type": "code",
   "execution_count": 49,
   "id": "bcfd4a68",
   "metadata": {},
   "outputs": [
    {
     "data": {
      "text/plain": [
       "(2, 3)"
      ]
     },
     "execution_count": 49,
     "metadata": {},
     "output_type": "execute_result"
    }
   ],
   "source": [
    "c.shape"
   ]
  },
  {
   "cell_type": "code",
   "execution_count": 50,
   "id": "716d466c",
   "metadata": {},
   "outputs": [
    {
     "data": {
      "text/plain": [
       "(3, 3)"
      ]
     },
     "execution_count": 50,
     "metadata": {},
     "output_type": "execute_result"
    }
   ],
   "source": [
    "d.shape"
   ]
  },
  {
   "cell_type": "code",
   "execution_count": 51,
   "id": "c0b911f5",
   "metadata": {},
   "outputs": [
    {
     "data": {
      "text/plain": [
       "(4, 3)"
      ]
     },
     "execution_count": 51,
     "metadata": {},
     "output_type": "execute_result"
    }
   ],
   "source": [
    "e.shape"
   ]
  },
  {
   "cell_type": "code",
   "execution_count": 53,
   "id": "30ec5bc3",
   "metadata": {},
   "outputs": [
    {
     "data": {
      "text/plain": [
       "(2, 3, 3)"
      ]
     },
     "execution_count": 53,
     "metadata": {},
     "output_type": "execute_result"
    }
   ],
   "source": [
    "f.shape \n",
    "# 2 horizontal rows i.e each a 2 dim array and a 3 by 3 shape"
   ]
  },
  {
   "cell_type": "code",
   "execution_count": 54,
   "id": "73229c2a",
   "metadata": {},
   "outputs": [
    {
     "data": {
      "text/plain": [
       "2"
      ]
     },
     "execution_count": 54,
     "metadata": {},
     "output_type": "execute_result"
    }
   ],
   "source": [
    "f.shape[0] # total number of 2 dim arrays"
   ]
  },
  {
   "cell_type": "code",
   "execution_count": 55,
   "id": "065793e3",
   "metadata": {},
   "outputs": [
    {
     "data": {
      "text/plain": [
       "3"
      ]
     },
     "execution_count": 55,
     "metadata": {},
     "output_type": "execute_result"
    }
   ],
   "source": [
    "f.shape[1]\n",
    "# in each 2d array, how many 1 d arrays?"
   ]
  },
  {
   "cell_type": "code",
   "execution_count": 56,
   "id": "527c9676",
   "metadata": {},
   "outputs": [
    {
     "data": {
      "text/plain": [
       "3"
      ]
     },
     "execution_count": 56,
     "metadata": {},
     "output_type": "execute_result"
    }
   ],
   "source": [
    "f.shape[2]\n",
    "# in each 1 d array, how many elements?"
   ]
  },
  {
   "cell_type": "code",
   "execution_count": 57,
   "id": "cb7be167",
   "metadata": {},
   "outputs": [
    {
     "data": {
      "text/plain": [
       "(2, 3, 3)"
      ]
     },
     "execution_count": 57,
     "metadata": {},
     "output_type": "execute_result"
    }
   ],
   "source": [
    "f.shape[0], f.shape[1], f.shape[2]"
   ]
  },
  {
   "cell_type": "code",
   "execution_count": 58,
   "id": "17c1611c",
   "metadata": {},
   "outputs": [
    {
     "data": {
      "text/plain": [
       "12"
      ]
     },
     "execution_count": 58,
     "metadata": {},
     "output_type": "execute_result"
    }
   ],
   "source": [
    "e.size"
   ]
  },
  {
   "cell_type": "code",
   "execution_count": 59,
   "id": "8490cd83",
   "metadata": {},
   "outputs": [
    {
     "data": {
      "text/plain": [
       "18"
      ]
     },
     "execution_count": 59,
     "metadata": {},
     "output_type": "execute_result"
    }
   ],
   "source": [
    "f.size # how many elements in the array"
   ]
  },
  {
   "cell_type": "code",
   "execution_count": 62,
   "id": "28b7a9ef",
   "metadata": {},
   "outputs": [
    {
     "data": {
      "text/plain": [
       "96"
      ]
     },
     "execution_count": 62,
     "metadata": {},
     "output_type": "execute_result"
    }
   ],
   "source": [
    "e.nbytes # how many bytes is taken in the memory"
   ]
  },
  {
   "cell_type": "code",
   "execution_count": 63,
   "id": "39bf9c45",
   "metadata": {},
   "outputs": [
    {
     "data": {
      "text/plain": [
       "144"
      ]
     },
     "execution_count": 63,
     "metadata": {},
     "output_type": "execute_result"
    }
   ],
   "source": [
    "f.nbytes"
   ]
  },
  {
   "cell_type": "code",
   "execution_count": 64,
   "id": "d5fbbb8a",
   "metadata": {},
   "outputs": [
    {
     "data": {
      "text/plain": [
       "20"
      ]
     },
     "execution_count": 64,
     "metadata": {},
     "output_type": "execute_result"
    }
   ],
   "source": [
    "a.nbytes"
   ]
  },
  {
   "cell_type": "code",
   "execution_count": 66,
   "id": "974a0cca",
   "metadata": {},
   "outputs": [
    {
     "data": {
      "text/plain": [
       "<function ndarray.mean>"
      ]
     },
     "execution_count": 66,
     "metadata": {},
     "output_type": "execute_result"
    }
   ],
   "source": [
    "f.mean"
   ]
  },
  {
   "cell_type": "markdown",
   "id": "9b3f2298",
   "metadata": {},
   "source": [
    "# arange, random.permutation, reshape"
   ]
  },
  {
   "cell_type": "code",
   "execution_count": 67,
   "id": "aa8b7ff7",
   "metadata": {},
   "outputs": [
    {
     "data": {
      "text/plain": [
       "array([ 0,  1,  2,  3,  4,  5,  6,  7,  8,  9, 10, 11, 12, 13, 14, 15, 16,\n",
       "       17, 18, 19, 20, 21, 22, 23, 24, 25, 26, 27, 28, 29, 30, 31, 32, 33,\n",
       "       34, 35, 36, 37, 38, 39, 40, 41, 42, 43, 44, 45, 46, 47, 48, 49, 50,\n",
       "       51, 52, 53, 54, 55, 56, 57, 58, 59, 60, 61, 62, 63, 64, 65, 66, 67,\n",
       "       68, 69, 70, 71, 72, 73, 74, 75, 76, 77, 78, 79, 80, 81, 82, 83, 84,\n",
       "       85, 86, 87, 88, 89, 90, 91, 92, 93, 94, 95, 96, 97, 98, 99])"
      ]
     },
     "execution_count": 67,
     "metadata": {},
     "output_type": "execute_result"
    }
   ],
   "source": [
    "A = np.arange(100)\n",
    "A"
   ]
  },
  {
   "cell_type": "code",
   "execution_count": 68,
   "id": "d33b5e0b",
   "metadata": {},
   "outputs": [
    {
     "data": {
      "text/plain": [
       "array([20, 21, 22, 23, 24, 25, 26, 27, 28, 29, 30, 31, 32, 33, 34, 35, 36,\n",
       "       37, 38, 39, 40, 41, 42, 43, 44, 45, 46, 47, 48, 49, 50, 51, 52, 53,\n",
       "       54, 55, 56, 57, 58, 59, 60, 61, 62, 63, 64, 65, 66, 67, 68, 69, 70,\n",
       "       71, 72, 73, 74])"
      ]
     },
     "execution_count": 68,
     "metadata": {},
     "output_type": "execute_result"
    }
   ],
   "source": [
    "B = np.arange(20, 75)\n",
    "B"
   ]
  },
  {
   "cell_type": "code",
   "execution_count": 71,
   "id": "e5faffed",
   "metadata": {},
   "outputs": [
    {
     "data": {
      "text/plain": [
       "array([20, 25, 30, 35, 40, 45, 50])"
      ]
     },
     "execution_count": 71,
     "metadata": {},
     "output_type": "execute_result"
    }
   ],
   "source": [
    "C = np.arange(20, 51, 5)\n",
    "C"
   ]
  },
  {
   "cell_type": "code",
   "execution_count": 73,
   "id": "740215aa",
   "metadata": {},
   "outputs": [
    {
     "data": {
      "text/plain": [
       "array([3, 7, 6, 5, 4, 2, 8, 9, 0, 1])"
      ]
     },
     "execution_count": 73,
     "metadata": {},
     "output_type": "execute_result"
    }
   ],
   "source": [
    "A = np.random.permutation(np.arange(10))\n",
    "A"
   ]
  },
  {
   "cell_type": "code",
   "execution_count": 77,
   "id": "e90f4835",
   "metadata": {},
   "outputs": [],
   "source": [
    "np.random.randint?"
   ]
  },
  {
   "cell_type": "code",
   "execution_count": 81,
   "id": "f676c65e",
   "metadata": {},
   "outputs": [
    {
     "data": {
      "text/plain": [
       "247"
      ]
     },
     "execution_count": 81,
     "metadata": {},
     "output_type": "execute_result"
    }
   ],
   "source": [
    "np.random.randint(20, 300) # generates a single number"
   ]
  },
  {
   "cell_type": "code",
   "execution_count": 90,
   "id": "bacce98b",
   "metadata": {},
   "outputs": [
    {
     "data": {
      "text/plain": [
       "array([6.19657236e-01, 7.96019776e-01, 1.49980857e-01, 5.10588828e-01,\n",
       "       9.98016132e-01, 2.75662188e-01, 3.22837548e-01, 7.17068257e-01,\n",
       "       9.25740866e-02, 3.53873503e-01, 8.27537922e-01, 3.60755340e-01,\n",
       "       8.49843133e-01, 1.21186883e-03, 3.65591491e-01, 7.20809731e-01,\n",
       "       4.47196186e-01, 5.27291804e-02, 1.00424331e-01, 7.33224565e-01,\n",
       "       4.37062934e-02, 6.70416797e-01, 7.31829232e-01, 7.69708131e-01,\n",
       "       4.59727745e-01, 5.76535161e-01, 4.86311702e-01, 3.56050098e-01,\n",
       "       2.41422182e-01, 3.09083914e-01, 8.66296991e-01, 7.05833525e-01,\n",
       "       1.49981035e-01, 9.84926510e-01, 2.00527650e-01, 9.89011040e-01,\n",
       "       6.60075654e-01, 9.17427824e-01, 6.13329308e-01, 3.27486009e-01,\n",
       "       2.94190350e-01, 6.28012892e-01, 1.71544571e-02, 2.92020518e-01,\n",
       "       8.84752769e-01, 3.09696817e-01, 2.69769753e-02, 5.35771377e-01,\n",
       "       2.32605573e-02, 3.73127478e-01, 9.35225674e-01, 1.68300075e-01,\n",
       "       1.40286254e-01, 7.14584668e-01, 9.65861742e-01, 3.22889391e-01,\n",
       "       1.53986519e-01, 6.14656329e-01, 9.95374232e-01, 5.55467160e-01,\n",
       "       7.76209993e-01, 2.55313931e-01, 6.06366451e-01, 2.50786524e-01,\n",
       "       2.32113088e-01, 9.36072563e-01, 9.18372241e-01, 2.91356155e-01,\n",
       "       6.01424704e-01, 4.06633710e-01, 7.23504027e-02, 3.29191661e-01,\n",
       "       4.80499018e-02, 8.59939035e-02, 3.20546105e-01, 8.70444664e-01,\n",
       "       1.46611162e-02, 1.55381844e-01, 6.99151093e-01, 5.62140918e-01,\n",
       "       8.00035975e-01, 2.19878892e-01, 8.37118639e-01, 5.71567836e-01,\n",
       "       7.62408360e-01, 6.84792820e-02, 5.49943156e-01, 3.26686892e-01,\n",
       "       7.28838752e-01, 9.67789701e-01, 4.37106994e-02, 2.24085674e-01,\n",
       "       4.55671812e-01, 9.78552941e-01, 2.39669943e-01, 8.06525681e-01,\n",
       "       8.85425397e-01, 2.53766745e-01, 7.44419861e-01, 2.61193480e-01,\n",
       "       3.13307730e-01, 1.54190284e-01, 6.37209204e-01, 4.14606713e-01,\n",
       "       8.83294932e-01, 5.06190416e-01, 4.70088975e-01, 5.13089305e-01,\n",
       "       6.89943407e-01, 2.99229408e-01, 7.02175942e-01, 8.64717140e-01,\n",
       "       3.44804643e-01, 1.44528020e-01, 4.57980133e-01, 7.07606237e-01,\n",
       "       9.87630331e-03, 4.73660761e-01, 5.14184847e-01, 9.07802029e-01,\n",
       "       8.01921993e-01, 8.14201400e-01, 2.22396434e-01, 9.15462019e-01,\n",
       "       6.39322218e-01, 5.95373486e-01, 2.30731535e-01, 8.28898983e-01,\n",
       "       2.94383197e-01, 2.18048367e-01, 6.05844398e-01, 9.66383053e-01,\n",
       "       7.05657080e-01, 1.23427358e-01, 4.97044801e-01, 4.83170119e-01,\n",
       "       8.95885037e-01, 8.82875608e-01, 2.73889649e-03, 6.28117773e-01,\n",
       "       5.23467083e-01, 8.96390514e-01, 1.11560245e-01, 2.17326209e-01,\n",
       "       5.77457945e-01, 4.55942363e-01, 8.97555834e-01, 1.28667624e-01,\n",
       "       9.66156492e-01, 8.14897395e-01, 3.16021076e-01, 2.74871122e-01,\n",
       "       6.84001510e-01, 4.57157214e-01, 1.24667442e-01, 8.62005591e-01,\n",
       "       6.98018632e-01, 7.22654068e-01, 2.40219876e-02, 2.54241906e-01,\n",
       "       6.89045104e-01, 7.35439251e-01, 9.31081011e-01, 8.71035822e-01,\n",
       "       4.78932573e-01, 6.54452659e-02, 4.09719876e-01, 3.68095455e-01,\n",
       "       7.44070065e-01, 3.73821748e-01, 9.70906458e-01, 6.91525614e-01,\n",
       "       7.98610517e-01, 1.08924716e-01, 6.95383490e-01, 9.53240318e-01,\n",
       "       2.49337881e-01, 7.55865436e-01, 3.86730503e-01, 9.81315846e-01,\n",
       "       7.99980559e-01, 8.57289773e-01, 6.51372649e-01, 6.69234528e-01,\n",
       "       8.57533410e-01, 3.99899756e-01, 2.66261081e-01, 9.95426507e-01,\n",
       "       5.93563463e-01, 3.73212156e-01, 8.20890622e-01, 6.90566722e-01,\n",
       "       7.86452370e-01, 7.72353305e-02, 5.86204313e-01, 2.85176873e-01,\n",
       "       5.24001499e-01, 8.70895687e-01, 4.96106378e-01, 8.73114224e-01,\n",
       "       4.60056886e-01, 9.72302867e-01, 6.39695263e-01, 2.52625641e-01,\n",
       "       4.41972545e-02, 2.28361058e-01, 9.65431481e-01, 1.62314176e-01,\n",
       "       7.24689055e-01, 1.10158411e-01, 5.56839429e-01, 3.80424588e-01,\n",
       "       9.65685233e-01, 9.52803813e-01, 8.75277229e-02, 6.32479782e-01,\n",
       "       6.62532882e-01, 5.43093913e-02, 4.06595903e-01, 6.93733999e-01,\n",
       "       2.66827094e-01, 5.88925530e-01, 5.83872804e-01, 9.00523325e-01,\n",
       "       2.89837596e-01, 1.81781984e-01, 7.50331844e-01, 3.63459824e-01,\n",
       "       7.06121324e-01, 5.16834159e-01, 4.33769349e-01, 5.09436603e-01,\n",
       "       1.72719801e-01, 4.25137408e-01, 7.34002658e-01, 2.58655158e-01,\n",
       "       6.83649994e-01, 1.91352349e-01, 3.35131003e-02, 8.03990601e-01,\n",
       "       9.64581323e-02, 9.81500226e-01, 6.60109168e-01, 5.61640053e-01,\n",
       "       3.44155579e-01, 9.71752043e-01, 9.08903398e-01, 6.79392516e-01,\n",
       "       4.50881780e-01, 8.68541966e-01, 1.18102712e-01, 8.24906528e-01,\n",
       "       3.59119348e-01, 7.84334375e-01, 2.58043542e-01, 2.86627799e-01,\n",
       "       5.13692981e-01, 7.47148072e-01, 2.07162001e-01, 4.99684323e-01,\n",
       "       8.56862718e-01, 7.71551227e-02, 1.02226516e-01, 2.95300239e-01,\n",
       "       1.77328195e-01, 7.41824283e-01, 4.76622591e-02, 1.92372157e-01,\n",
       "       5.30243794e-02, 6.75448206e-01, 6.26593651e-01, 3.11391669e-01,\n",
       "       8.94380476e-01, 3.93921538e-01, 6.59417612e-01, 4.96192215e-01,\n",
       "       8.36356266e-01, 4.16879583e-01, 3.35488414e-01, 5.41569002e-01,\n",
       "       9.30073223e-01, 2.00287324e-01, 9.52615974e-01, 6.38366549e-01,\n",
       "       4.82152154e-01, 6.59330928e-01, 9.74401168e-01, 2.09192984e-04,\n",
       "       2.07945861e-01, 9.15422156e-02, 6.98839253e-01, 3.32678888e-01,\n",
       "       8.10379172e-01, 3.90206534e-01, 4.70184507e-01, 6.06329546e-01,\n",
       "       8.26472289e-01, 1.15764848e-01, 4.90743923e-01, 6.50372661e-01,\n",
       "       2.88574576e-01, 6.07743491e-01, 4.46133712e-01, 4.27680083e-01,\n",
       "       9.76348362e-01, 9.61230563e-01, 4.58368576e-01, 9.16293275e-01,\n",
       "       6.72438706e-01, 6.88216696e-03, 3.45424216e-01, 2.90183872e-01,\n",
       "       1.25469988e-01, 2.68047147e-01, 3.72551986e-01, 6.69970357e-01,\n",
       "       6.30354760e-01, 3.05052247e-01, 8.96365424e-01, 2.54250337e-01,\n",
       "       7.50333450e-01, 2.04601071e-01, 1.78217112e-02, 4.40458762e-01,\n",
       "       9.50235488e-02, 8.25967817e-01, 5.18147450e-01, 8.01420736e-01,\n",
       "       6.40582043e-01, 2.81127216e-02, 8.59668699e-01, 1.38199515e-01,\n",
       "       2.46591730e-01, 4.41007547e-01, 6.80350340e-01, 2.48978371e-01,\n",
       "       6.26361270e-01, 3.13253439e-01, 3.91306102e-01, 6.80434646e-01,\n",
       "       7.21880388e-01, 4.92051662e-01, 9.67288764e-01, 8.74813976e-01,\n",
       "       2.90413238e-01, 3.80426268e-01, 3.55029051e-01, 6.44370589e-01,\n",
       "       7.65339064e-01, 1.63813191e-01, 2.98970665e-01, 7.84829445e-01,\n",
       "       8.03326885e-01, 7.33018570e-01, 8.92750011e-01, 8.04527537e-01,\n",
       "       4.98951151e-01, 8.12730980e-02, 3.72562979e-01, 5.90130795e-03,\n",
       "       1.05618334e-01, 6.41125313e-01, 9.13788882e-01, 2.72025487e-02,\n",
       "       5.66426467e-01, 9.38384452e-01, 3.81307510e-01, 7.26422579e-01,\n",
       "       1.73031251e-01, 9.74037077e-01, 3.45423207e-01, 4.38715896e-01,\n",
       "       1.83795541e-01, 5.21997075e-01, 3.84049618e-02, 5.70714064e-01,\n",
       "       2.19461586e-01, 8.23321486e-01, 6.46330048e-01, 1.45309693e-01,\n",
       "       2.01720854e-01, 9.82467515e-01, 3.34351015e-01, 1.81451224e-01,\n",
       "       4.01855339e-01, 1.05186492e-01, 9.47513992e-01, 9.90334968e-01,\n",
       "       1.21155817e-02, 1.82536142e-02, 9.67975396e-01, 2.53330000e-01,\n",
       "       2.02847129e-01, 9.39462913e-01, 3.49273991e-01, 5.99963982e-01,\n",
       "       1.54765939e-02, 7.30131310e-01, 5.50913957e-01, 1.31449627e-01,\n",
       "       4.32714008e-01, 9.19035605e-01, 7.35692454e-01, 9.45948456e-02,\n",
       "       6.58128306e-01, 7.31632498e-01, 2.60177918e-01, 2.07669921e-01,\n",
       "       8.97154170e-01, 7.51361268e-01, 4.66513518e-01, 6.41081058e-01,\n",
       "       5.09168026e-01, 2.47000485e-01, 2.78973928e-01, 6.88523627e-01,\n",
       "       6.73659903e-01, 3.39132493e-01, 8.08761456e-01, 2.50018972e-01,\n",
       "       1.47551031e-01, 7.23603120e-01, 5.41666261e-01, 6.01276809e-01,\n",
       "       9.69964679e-01, 1.79500567e-01, 2.85162157e-01, 7.82413874e-01,\n",
       "       4.84573722e-01, 7.53469655e-01, 2.91461298e-01, 8.72027744e-01,\n",
       "       2.50654958e-01, 3.20717571e-01, 7.00713122e-01, 1.69557142e-01,\n",
       "       8.15216848e-01, 6.65707311e-01, 8.88507519e-02, 6.84272030e-01,\n",
       "       7.55022769e-01, 7.48588031e-01, 8.17805837e-01, 3.11936546e-01,\n",
       "       2.61219878e-02, 7.08632176e-01, 1.73819253e-01, 3.45782546e-01,\n",
       "       5.23908779e-01, 3.20295959e-01, 5.91746317e-01, 5.30631117e-01,\n",
       "       7.58373026e-01, 5.11488842e-01, 7.95250352e-01, 1.57812780e-01,\n",
       "       6.71468221e-01, 5.00988329e-01, 1.54205766e-01, 2.53526420e-02,\n",
       "       1.15304731e-01, 7.05940307e-01, 4.45028362e-02, 8.34563270e-01,\n",
       "       9.15846354e-01, 8.56428076e-02, 6.60396018e-01, 6.50295696e-01,\n",
       "       9.19231239e-01, 1.06789542e-01, 4.41687627e-01, 6.29506436e-01,\n",
       "       2.40008067e-01, 2.74028223e-01, 1.58124809e-01, 7.41859603e-02,\n",
       "       6.34926166e-01, 2.53295242e-01, 9.08851403e-01, 6.88109815e-01,\n",
       "       8.43107337e-01, 9.56587131e-01, 7.14604462e-01, 6.50157205e-01,\n",
       "       4.06163363e-01, 6.55189007e-02, 6.48678707e-01, 3.80068021e-01,\n",
       "       7.66025309e-01, 9.43618457e-01, 1.22474825e-02, 8.96086273e-01,\n",
       "       7.89426170e-01, 2.59633210e-01, 1.90238577e-01, 5.90854452e-01,\n",
       "       4.83757331e-02, 5.49003648e-01, 6.24122869e-01, 4.15822681e-01,\n",
       "       1.05485898e-01, 6.69436611e-01, 3.17250535e-01, 3.44737706e-01,\n",
       "       4.30277996e-01, 5.49904451e-01, 5.95708755e-01, 9.52507428e-01,\n",
       "       1.66069467e-01, 3.76413366e-01, 8.90817123e-01, 5.86280412e-01,\n",
       "       2.19421321e-01, 5.60575366e-01, 2.26919366e-02, 9.83851360e-02,\n",
       "       3.55675356e-01, 7.56912937e-01, 1.33261993e-01, 4.31587158e-01,\n",
       "       7.00801605e-01, 6.85356308e-01, 1.38198989e-01, 7.96619991e-01,\n",
       "       8.91741593e-01, 5.84060417e-01, 7.24668244e-01, 4.08701592e-01,\n",
       "       9.61512899e-01, 1.36613103e-01, 8.09266590e-01, 5.17690204e-01,\n",
       "       1.65491586e-01, 2.48931154e-01, 9.81723830e-02, 1.88931458e-01,\n",
       "       4.70727597e-01, 6.92668421e-01, 5.58132837e-01, 9.08495048e-01,\n",
       "       5.67233205e-01, 7.92613178e-01, 4.05503565e-01, 5.41863713e-01,\n",
       "       5.38164368e-01, 1.36300106e-01, 3.64262067e-01, 2.53908620e-01,\n",
       "       4.38873247e-01, 1.42987660e-01, 3.29818523e-01, 2.11763275e-01,\n",
       "       6.28291896e-01, 8.01355575e-01, 6.22334073e-01, 1.67949852e-01,\n",
       "       4.37162374e-01, 1.58269154e-01, 2.37852371e-02, 1.61523857e-01,\n",
       "       1.92535339e-01, 6.66367086e-01, 8.31118810e-03, 3.10226473e-01,\n",
       "       3.30996468e-01, 5.95505485e-01, 8.49534145e-01, 5.39879948e-01,\n",
       "       5.51025968e-01, 2.31673911e-01, 8.43015742e-01, 8.51592675e-01,\n",
       "       1.23314877e-01, 5.78365770e-02, 8.60157191e-01, 1.62699270e-01,\n",
       "       5.69838079e-01, 7.15757028e-02, 1.40984519e-01, 4.46012779e-01,\n",
       "       5.63064751e-01, 1.01906334e-01, 5.49677035e-01, 6.82526886e-01,\n",
       "       5.07833279e-01, 5.27722318e-01, 3.57294801e-01, 2.56840470e-01,\n",
       "       5.35640943e-01, 8.89264353e-01, 7.80375793e-01, 5.50391798e-01,\n",
       "       2.06797036e-01, 5.24062441e-01, 4.56269416e-01, 2.86450256e-01,\n",
       "       9.80496931e-01, 7.59663205e-01, 3.91105995e-01, 3.95324866e-01,\n",
       "       5.26393381e-01, 8.06390358e-01, 6.07497625e-02, 3.86353580e-01,\n",
       "       6.18873014e-01, 5.55528617e-01, 9.49221537e-01, 1.72058821e-01,\n",
       "       6.10896618e-01, 2.69578704e-01, 4.52565599e-01, 8.88485714e-02,\n",
       "       5.62437333e-01, 5.69583320e-01, 6.42075463e-01, 6.52477484e-03,\n",
       "       1.31344115e-01, 6.93920426e-02, 9.15956687e-01, 5.72125482e-01,\n",
       "       7.52497732e-01, 5.50523957e-01, 8.18042576e-01, 7.74337965e-02,\n",
       "       1.81377078e-01, 6.28992597e-01, 5.00112782e-01, 6.74294436e-01,\n",
       "       2.72376301e-01, 3.52965942e-01, 2.17808376e-02, 6.50050840e-01,\n",
       "       1.59694170e-01, 4.53975552e-01, 2.23957210e-01, 3.70491999e-01,\n",
       "       5.66450627e-02, 3.42429708e-01, 1.19422669e-02, 8.40916404e-01,\n",
       "       2.56047698e-01, 3.59360234e-01, 8.47364587e-01, 7.26351909e-01,\n",
       "       4.30541155e-01, 3.41859484e-01, 5.15673467e-02, 2.98454408e-01,\n",
       "       2.44397004e-01, 7.47502525e-01, 6.57339047e-01, 1.68771493e-01,\n",
       "       7.27874804e-01, 6.26795884e-01, 8.50343465e-02, 5.02940216e-01,\n",
       "       4.91753043e-01, 5.92073912e-01, 3.64829402e-01, 4.02200217e-01,\n",
       "       4.04536306e-01, 2.71042863e-01, 3.07713324e-01, 1.84660183e-01,\n",
       "       8.83011795e-01, 3.14357532e-01, 2.13194956e-01, 5.20869591e-01,\n",
       "       9.88322494e-01, 2.81486172e-01, 7.82046643e-01, 3.62680620e-01,\n",
       "       1.68876745e-01, 2.35104229e-01, 3.71071788e-01, 6.55282589e-01,\n",
       "       3.21478672e-01, 6.22837801e-01, 1.81323780e-01, 4.76646021e-01,\n",
       "       8.06586218e-03, 1.34603306e-01, 9.74183121e-01, 7.40331066e-02,\n",
       "       2.89042337e-01, 7.17045191e-01, 7.24843088e-01, 2.98724460e-01,\n",
       "       7.65866836e-01, 7.08602449e-01, 9.09598674e-01, 2.79448979e-01,\n",
       "       1.67009375e-01, 2.42679555e-01, 2.35936341e-01, 9.69211981e-01,\n",
       "       3.26758090e-01, 8.48843412e-01, 4.31602140e-01, 1.89156032e-01,\n",
       "       9.89441500e-01, 3.35317724e-01, 4.65657723e-01, 1.35318154e-01,\n",
       "       9.55626075e-01, 8.03423124e-01, 7.38126864e-01, 5.72566267e-01,\n",
       "       9.47422433e-01, 3.20730860e-01, 7.99530521e-01, 5.24496603e-01,\n",
       "       7.45177679e-01, 8.99005451e-01, 9.24818746e-01, 3.01532436e-01,\n",
       "       5.50699328e-01, 7.97025423e-01, 1.38399067e-01, 1.32598443e-01,\n",
       "       3.39157047e-02, 6.00346222e-01, 4.57042483e-01, 3.55093572e-01,\n",
       "       3.94930924e-02, 4.98003417e-01, 9.50166595e-01, 7.70565058e-01,\n",
       "       4.45174726e-01, 8.20016612e-01, 1.94157267e-01, 6.92471133e-01,\n",
       "       2.64976122e-01, 8.78946527e-01, 5.17843117e-01, 1.78342791e-01,\n",
       "       3.09041720e-01, 5.32731014e-01, 5.87930377e-01, 9.11304503e-01,\n",
       "       7.70685612e-01, 2.88358578e-01, 8.27214480e-01, 2.27743384e-01,\n",
       "       3.59174025e-01, 9.40486753e-01, 4.73317450e-01, 8.77431201e-01,\n",
       "       9.05915057e-01, 9.44781256e-01, 8.01779861e-01, 3.81014230e-01,\n",
       "       5.46961526e-01, 9.76729586e-01, 1.02019840e-03, 1.61047983e-02,\n",
       "       9.59923802e-01, 3.40571303e-01, 9.56300335e-01, 5.41602553e-01,\n",
       "       3.60896810e-01, 8.70775676e-01, 9.75839634e-01, 4.42256299e-01,\n",
       "       4.96705555e-02, 6.56388152e-01, 5.79865112e-01, 6.65056659e-01,\n",
       "       1.53814922e-01, 3.36324327e-01, 3.96145055e-02, 2.21612436e-01,\n",
       "       6.54856980e-01, 1.12830679e-01, 5.07660074e-02, 8.81494909e-01,\n",
       "       6.51118216e-01, 7.26983142e-01, 7.55767327e-01, 8.61223870e-01,\n",
       "       7.21000706e-01, 4.88528058e-01, 7.37226280e-01, 3.65207925e-01,\n",
       "       3.77039575e-01, 7.67630529e-01, 4.90573374e-01, 7.68009856e-01,\n",
       "       4.71491349e-01, 3.37763837e-01, 7.70329509e-01, 8.21007436e-01,\n",
       "       6.94838622e-01, 9.86969790e-01, 3.94292474e-01, 1.19453570e-01,\n",
       "       1.37610402e-01, 1.73083464e-01, 4.33580460e-01, 4.64838873e-01,\n",
       "       5.34397138e-01, 6.59399552e-01, 7.03680208e-01, 3.37954773e-01,\n",
       "       8.94962065e-01, 6.83827185e-02, 5.55751143e-01, 1.82097622e-01,\n",
       "       6.74962310e-01, 5.22526720e-01, 3.11763001e-01, 5.78718360e-01,\n",
       "       7.52352620e-01, 1.36329989e-01, 8.31300654e-01, 1.65867665e-01,\n",
       "       3.53359985e-01, 7.21042485e-01, 4.77269016e-01, 7.77618165e-01,\n",
       "       8.44565911e-01, 7.32109763e-01, 6.87261689e-01, 5.89875053e-01,\n",
       "       7.53470559e-01, 5.04599683e-01, 2.82742663e-01, 9.82796372e-01,\n",
       "       5.02604673e-01, 8.69885496e-01, 7.31124030e-01, 7.08239603e-02,\n",
       "       8.30242783e-01, 9.63621815e-01, 6.00564602e-01, 6.51873338e-01,\n",
       "       4.50983935e-01, 3.58891172e-01, 8.76532144e-01, 5.33722891e-01,\n",
       "       5.20380668e-01, 4.75518617e-01, 7.72873835e-01, 2.57265759e-01,\n",
       "       9.46014171e-01, 7.27395883e-01, 6.96788380e-01, 2.09014464e-01,\n",
       "       1.95871164e-01, 1.35419901e-01, 2.63604759e-01, 9.46404652e-01,\n",
       "       8.44988892e-01, 4.68177777e-01, 1.91077873e-01, 9.26025912e-01,\n",
       "       2.27239051e-01, 1.25187326e-01, 2.82078483e-01, 7.87046635e-01,\n",
       "       3.73915364e-01, 2.97941597e-03, 8.77444367e-01, 3.20587360e-01,\n",
       "       1.97233197e-01, 3.61852016e-01, 2.44079756e-01, 3.69888267e-01,\n",
       "       5.61039560e-01, 3.30119820e-01, 1.12540629e-01, 1.74416819e-01,\n",
       "       9.84899656e-02, 5.71469350e-01, 1.50174949e-01, 7.06783119e-01,\n",
       "       1.44278235e-01, 5.41108555e-01, 5.56005820e-01, 6.36765780e-01,\n",
       "       5.52576184e-01, 5.20935987e-01, 9.89760782e-01, 2.13334526e-02,\n",
       "       6.35741503e-01, 3.84708413e-01, 1.10987394e-01, 8.82138262e-01,\n",
       "       7.34567891e-01, 7.07799460e-01, 9.15840945e-01, 1.73735800e-01,\n",
       "       5.34097473e-01, 4.75074520e-01, 3.04432864e-01, 3.18455129e-01,\n",
       "       8.20451391e-01, 9.53118210e-01, 3.61869260e-01, 4.72908447e-01,\n",
       "       2.56011372e-01, 1.67822384e-01, 7.57867271e-01, 9.06206089e-01,\n",
       "       9.31798040e-01, 1.73627520e-01, 5.37405430e-01, 4.40533940e-01,\n",
       "       8.16982947e-01, 8.68592251e-01, 4.98141804e-01, 7.09769935e-01,\n",
       "       1.26231964e-01, 2.91820156e-01, 3.32632754e-01, 2.55430981e-01,\n",
       "       1.31222912e-02, 3.27133813e-01, 3.38583189e-01, 3.31825617e-01,\n",
       "       1.69506461e-01, 9.38170468e-01, 6.31663931e-01, 7.53087162e-01,\n",
       "       7.78744407e-01, 9.39303381e-01, 1.17797897e-01, 9.71010221e-01,\n",
       "       3.82566459e-01, 5.36515365e-01, 6.35014940e-01, 7.92561661e-01,\n",
       "       6.76496644e-01, 8.57216442e-01, 9.01788741e-01, 9.74783813e-01,\n",
       "       4.04584511e-01, 8.21651005e-01, 5.03321735e-01, 1.95013420e-01,\n",
       "       5.57039115e-01, 6.66839305e-01, 8.46042041e-01, 8.42082014e-02,\n",
       "       5.40523213e-02, 7.53060308e-01, 8.37485613e-01, 2.00030284e-01,\n",
       "       6.18628808e-01, 5.49157659e-01, 4.76621261e-01, 7.48067572e-01,\n",
       "       4.16411822e-01, 2.65421568e-01, 5.14114707e-01, 4.76956430e-01,\n",
       "       7.54408399e-02, 5.79759695e-01, 3.23123792e-01, 6.22918862e-01,\n",
       "       9.79430873e-01, 4.40636990e-01, 2.74456012e-01, 3.68008889e-02,\n",
       "       5.49210847e-01, 4.33166414e-01, 4.91832763e-01, 3.60790227e-01,\n",
       "       7.91615493e-01, 4.80295617e-01, 5.69416385e-01, 8.70857355e-02,\n",
       "       4.76240249e-01, 9.99065368e-01, 2.92199596e-01, 1.57510666e-01,\n",
       "       5.40298392e-01, 5.48742699e-01, 7.11611467e-01, 4.47827143e-01,\n",
       "       3.40787220e-01, 5.16176464e-01, 6.00791587e-01, 7.88164233e-01,\n",
       "       2.58614349e-02, 9.92101572e-01, 5.32787555e-01, 2.16791803e-01,\n",
       "       9.04328179e-01, 2.81953047e-01, 1.12557624e-01, 1.36682992e-02,\n",
       "       1.51468938e-01, 1.49827184e-01, 2.27789868e-01, 7.32659807e-01,\n",
       "       8.54569910e-01, 2.39911424e-01, 6.36961824e-01, 1.15920148e-01])"
      ]
     },
     "execution_count": 90,
     "metadata": {},
     "output_type": "execute_result"
    }
   ],
   "source": [
    "x = np.random.rand(1000) # generates 1dim array of 1000 numbers between 0 and 1\n",
    "x"
   ]
  },
  {
   "cell_type": "code",
   "execution_count": 91,
   "id": "07a4f40c",
   "metadata": {},
   "outputs": [
    {
     "data": {
      "text/plain": [
       "(array([ 88., 107., 106., 106.,  88., 108., 105., 103.,  96.,  93.]),\n",
       " array([2.09192984e-04, 1.00094810e-01, 1.99980428e-01, 2.99866045e-01,\n",
       "        3.99751663e-01, 4.99637280e-01, 5.99522898e-01, 6.99408515e-01,\n",
       "        7.99294133e-01, 8.99179750e-01, 9.99065368e-01]),\n",
       " <BarContainer object of 10 artists>)"
      ]
     },
     "execution_count": 91,
     "metadata": {},
     "output_type": "execute_result"
    },
    {
     "data": {
      "image/png": "[encoded data removed]",
      "text/plain": [
       "<Figure size 432x288 with 1 Axes>"
      ]
     },
     "metadata": {
      "needs_background": "light"
     },
     "output_type": "display_data"
    }
   ],
   "source": [
    "import matplotlib.pyplot as plt\n",
    "plt.hist(x)"
   ]
  },
  {
   "cell_type": "code",
   "execution_count": 92,
   "id": "3b55658b",
   "metadata": {},
   "outputs": [
    {
     "data": {
      "text/plain": [
       "(array([ 88., 107., 106., 106.,  88., 108., 105., 103.,  96.,  93.]),\n",
       " array([2.09192984e-04, 1.00094810e-01, 1.99980428e-01, 2.99866045e-01,\n",
       "        3.99751663e-01, 4.99637280e-01, 5.99522898e-01, 6.99408515e-01,\n",
       "        7.99294133e-01, 8.99179750e-01, 9.99065368e-01]),\n",
       " <BarContainer object of 10 artists>)"
      ]
     },
     "execution_count": 92,
     "metadata": {},
     "output_type": "execute_result"
    },
    {
     "data": {
      "image/png": "[encoded data removed]",
      "text/plain": [
       "<Figure size 432x288 with 1 Axes>"
      ]
     },
     "metadata": {
      "needs_background": "light"
     },
     "output_type": "display_data"
    }
   ],
   "source": [
    "plt.hist(x, bins=10)"
   ]
  },
  {
   "cell_type": "code",
   "execution_count": 93,
   "id": "a488fefc",
   "metadata": {},
   "outputs": [
    {
     "data": {
      "text/plain": [
       "array([ 1.57667281,  1.19905807,  0.42595547, ..., -0.35903143,\n",
       "       -0.0120721 , -1.78784184])"
      ]
     },
     "execution_count": 93,
     "metadata": {},
     "output_type": "execute_result"
    }
   ],
   "source": [
    "y = np.random.randn(100000)\n",
    "y"
   ]
  },
  {
   "cell_type": "code",
   "execution_count": 94,
   "id": "9bfe7f65",
   "metadata": {},
   "outputs": [
    {
     "data": {
      "text/plain": [
       "(array([1.000e+00, 0.000e+00, 0.000e+00, 0.000e+00, 1.000e+00, 1.000e+00,\n",
       "        2.000e+00, 0.000e+00, 1.000e+00, 0.000e+00, 2.000e+00, 1.000e+00,\n",
       "        0.000e+00, 1.000e+00, 4.000e+00, 3.000e+00, 5.000e+00, 3.000e+00,\n",
       "        4.000e+00, 4.000e+00, 6.000e+00, 8.000e+00, 1.100e+01, 1.000e+01,\n",
       "        9.000e+00, 1.700e+01, 1.100e+01, 2.200e+01, 2.300e+01, 1.600e+01,\n",
       "        2.100e+01, 3.500e+01, 3.900e+01, 4.000e+01, 4.500e+01, 4.700e+01,\n",
       "        7.000e+01, 5.700e+01, 5.700e+01, 8.700e+01, 7.200e+01, 9.000e+01,\n",
       "        9.700e+01, 1.040e+02, 1.140e+02, 1.140e+02, 1.490e+02, 1.720e+02,\n",
       "        1.970e+02, 1.900e+02, 2.410e+02, 2.380e+02, 2.600e+02, 2.510e+02,\n",
       "        2.900e+02, 2.890e+02, 3.700e+02, 3.960e+02, 4.170e+02, 4.320e+02,\n",
       "        4.620e+02, 5.220e+02, 5.560e+02, 5.820e+02, 5.670e+02, 6.870e+02,\n",
       "        6.820e+02, 7.490e+02, 7.720e+02, 7.980e+02, 8.650e+02, 8.920e+02,\n",
       "        9.000e+02, 1.023e+03, 1.033e+03, 1.064e+03, 1.077e+03, 1.198e+03,\n",
       "        1.190e+03, 1.200e+03, 1.331e+03, 1.250e+03, 1.422e+03, 1.395e+03,\n",
       "        1.474e+03, 1.450e+03, 1.503e+03, 1.525e+03, 1.597e+03, 1.619e+03,\n",
       "        1.709e+03, 1.694e+03, 1.664e+03, 1.682e+03, 1.668e+03, 1.695e+03,\n",
       "        1.743e+03, 1.770e+03, 1.764e+03, 1.639e+03, 1.688e+03, 1.669e+03,\n",
       "        1.647e+03, 1.641e+03, 1.560e+03, 1.668e+03, 1.575e+03, 1.592e+03,\n",
       "        1.498e+03, 1.504e+03, 1.434e+03, 1.445e+03, 1.505e+03, 1.343e+03,\n",
       "        1.295e+03, 1.310e+03, 1.216e+03, 1.198e+03, 1.230e+03, 1.126e+03,\n",
       "        1.050e+03, 1.019e+03, 9.550e+02, 9.220e+02, 8.930e+02, 7.820e+02,\n",
       "        8.690e+02, 7.930e+02, 7.060e+02, 6.670e+02, 6.420e+02, 6.590e+02,\n",
       "        5.800e+02, 4.960e+02, 5.030e+02, 4.860e+02, 4.250e+02, 4.130e+02,\n",
       "        3.950e+02, 3.380e+02, 3.320e+02, 3.480e+02, 2.990e+02, 2.490e+02,\n",
       "        2.110e+02, 2.320e+02, 1.910e+02, 1.880e+02, 1.570e+02, 1.560e+02,\n",
       "        1.520e+02, 1.490e+02, 1.140e+02, 8.900e+01, 9.100e+01, 7.800e+01,\n",
       "        7.500e+01, 7.100e+01, 6.000e+01, 4.900e+01, 3.600e+01, 3.000e+01,\n",
       "        4.700e+01, 3.400e+01, 2.900e+01, 2.400e+01, 3.600e+01, 2.200e+01,\n",
       "        2.000e+01, 1.200e+01, 1.600e+01, 1.000e+01, 1.300e+01, 1.600e+01,\n",
       "        1.300e+01, 8.000e+00, 6.000e+00, 5.000e+00, 5.000e+00, 1.000e+00,\n",
       "        3.000e+00, 1.000e+00, 1.000e+00, 4.000e+00, 5.000e+00, 2.000e+00,\n",
       "        4.000e+00, 2.000e+00, 2.000e+00, 1.000e+00, 1.000e+00, 0.000e+00,\n",
       "        0.000e+00, 1.000e+00, 0.000e+00, 0.000e+00, 0.000e+00, 1.000e+00,\n",
       "        0.000e+00, 1.000e+00]),\n",
       " array([-4.18559002, -4.14283433, -4.10007864, -4.05732296, -4.01456727,\n",
       "        -3.97181158, -3.92905589, -3.88630021, -3.84354452, -3.80078883,\n",
       "        -3.75803314, -3.71527746, -3.67252177, -3.62976608, -3.58701039,\n",
       "        -3.54425471, -3.50149902, -3.45874333, -3.41598764, -3.37323196,\n",
       "        -3.33047627, -3.28772058, -3.24496489, -3.20220921, -3.15945352,\n",
       "        -3.11669783, -3.07394215, -3.03118646, -2.98843077, -2.94567508,\n",
       "        -2.9029194 , -2.86016371, -2.81740802, -2.77465233, -2.73189665,\n",
       "        -2.68914096, -2.64638527, -2.60362958, -2.5608739 , -2.51811821,\n",
       "        -2.47536252, -2.43260683, -2.38985115, -2.34709546, -2.30433977,\n",
       "        -2.26158408, -2.2188284 , -2.17607271, -2.13331702, -2.09056133,\n",
       "        -2.04780565, -2.00504996, -1.96229427, -1.91953858, -1.8767829 ,\n",
       "        -1.83402721, -1.79127152, -1.74851583, -1.70576015, -1.66300446,\n",
       "        -1.62024877, -1.57749308, -1.5347374 , -1.49198171, -1.44922602,\n",
       "        -1.40647033, -1.36371465, -1.32095896, -1.27820327, -1.23544758,\n",
       "        -1.1926919 , -1.14993621, -1.10718052, -1.06442483, -1.02166915,\n",
       "        -0.97891346, -0.93615777, -0.89340208, -0.8506464 , -0.80789071,\n",
       "        -0.76513502, -0.72237933, -0.67962365, -0.63686796, -0.59411227,\n",
       "        -0.55135658, -0.5086009 , -0.46584521, -0.42308952, -0.38033383,\n",
       "        -0.33757815, -0.29482246, -0.25206677, -0.20931108, -0.1665554 ,\n",
       "        -0.12379971, -0.08104402, -0.03828833,  0.00446735,  0.04722304,\n",
       "         0.08997873,  0.13273442,  0.1754901 ,  0.21824579,  0.26100148,\n",
       "         0.30375717,  0.34651285,  0.38926854,  0.43202423,  0.47477992,\n",
       "         0.5175356 ,  0.56029129,  0.60304698,  0.64580267,  0.68855835,\n",
       "         0.73131404,  0.77406973,  0.81682542,  0.8595811 ,  0.90233679,\n",
       "         0.94509248,  0.98784817,  1.03060385,  1.07335954,  1.11611523,\n",
       "         1.15887092,  1.2016266 ,  1.24438229,  1.28713798,  1.32989367,\n",
       "         1.37264935,  1.41540504,  1.45816073,  1.50091642,  1.5436721 ,\n",
       "         1.58642779,  1.62918348,  1.67193917,  1.71469485,  1.75745054,\n",
       "         1.80020623,  1.84296192,  1.8857176 ,  1.92847329,  1.97122898,\n",
       "         2.01398467,  2.05674035,  2.09949604,  2.14225173,  2.18500742,\n",
       "         2.2277631 ,  2.27051879,  2.31327448,  2.35603017,  2.39878585,\n",
       "         2.44154154,  2.48429723,  2.52705292,  2.5698086 ,  2.61256429,\n",
       "         2.65531998,  2.69807567,  2.74083135,  2.78358704,  2.82634273,\n",
       "         2.86909842,  2.9118541 ,  2.95460979,  2.99736548,  3.04012117,\n",
       "         3.08287685,  3.12563254,  3.16838823,  3.21114392,  3.2538996 ,\n",
       "         3.29665529,  3.33941098,  3.38216667,  3.42492235,  3.46767804,\n",
       "         3.51043373,  3.55318942,  3.5959451 ,  3.63870079,  3.68145648,\n",
       "         3.72421217,  3.76696785,  3.80972354,  3.85247923,  3.89523492,\n",
       "         3.9379906 ,  3.98074629,  4.02350198,  4.06625767,  4.10901335,\n",
       "         4.15176904,  4.19452473,  4.23728042,  4.2800361 ,  4.32279179,\n",
       "         4.36554748]),\n",
       " <BarContainer object of 200 artists>)"
      ]
     },
     "execution_count": 94,
     "metadata": {},
     "output_type": "execute_result"
    },
    {
     "data": {
      "image/png": "[encoded data removed]",
      "text/plain": [
       "<Figure size 432x288 with 1 Axes>"
      ]
     },
     "metadata": {
      "needs_background": "light"
     },
     "output_type": "display_data"
    }
   ],
   "source": [
    "plt.hist(y, bins=200)"
   ]
  },
  {
   "cell_type": "code",
   "execution_count": 96,
   "id": "70076c09",
   "metadata": {},
   "outputs": [
    {
     "data": {
      "text/plain": [
       "array([[0.47631277, 0.45123088, 0.57028139],\n",
       "       [0.3607981 , 0.85177147, 0.66513283]])"
      ]
     },
     "execution_count": 96,
     "metadata": {},
     "output_type": "execute_result"
    }
   ],
   "source": [
    "v = np.random.rand(2, 3) # shape(2, 3) array of numbers btw 0 and 1\n",
    "v"
   ]
  },
  {
   "cell_type": "code",
   "execution_count": 97,
   "id": "11a146f9",
   "metadata": {},
   "outputs": [
    {
     "data": {
      "text/plain": [
       "2"
      ]
     },
     "execution_count": 97,
     "metadata": {},
     "output_type": "execute_result"
    }
   ],
   "source": [
    "v.ndim"
   ]
  },
  {
   "cell_type": "code",
   "execution_count": 100,
   "id": "00e79d8a",
   "metadata": {},
   "outputs": [
    {
     "data": {
      "text/plain": [
       "array([[[0.40772047, 0.75858567, 0.54678323, 0.78817184],\n",
       "        [0.11737077, 0.05603665, 0.82289748, 0.25620097],\n",
       "        [0.31819238, 0.25092291, 0.52625115, 0.44773565]],\n",
       "\n",
       "       [[0.46897297, 0.43036153, 0.46930437, 0.7562593 ],\n",
       "        [0.60332437, 0.88127804, 0.23308146, 0.84778213],\n",
       "        [0.36949159, 0.20592508, 0.31639976, 0.65035256]]])"
      ]
     },
     "execution_count": 100,
     "metadata": {},
     "output_type": "execute_result"
    }
   ],
   "source": [
    "m = np.random.rand(2, 3, 4)\n",
    "m"
   ]
  },
  {
   "cell_type": "code",
   "execution_count": 101,
   "id": "43348b82",
   "metadata": {},
   "outputs": [
    {
     "data": {
      "text/plain": [
       "3"
      ]
     },
     "execution_count": 101,
     "metadata": {},
     "output_type": "execute_result"
    }
   ],
   "source": [
    "m.ndim"
   ]
  },
  {
   "cell_type": "code",
   "execution_count": 103,
   "id": "407c93e3",
   "metadata": {},
   "outputs": [
    {
     "data": {
      "text/plain": [
       "array([[[[0.63869549, 0.28774207],\n",
       "         [0.42703695, 0.26419668],\n",
       "         [0.73051802, 0.58418881],\n",
       "         [0.28715705, 0.78087589]],\n",
       "\n",
       "        [[0.12444671, 0.94821573],\n",
       "         [0.63274268, 0.36943834],\n",
       "         [0.14654189, 0.93371351],\n",
       "         [0.03518378, 0.99843808]],\n",
       "\n",
       "        [[0.10070292, 0.65902419],\n",
       "         [0.26907596, 0.8849401 ],\n",
       "         [0.38589277, 0.5777429 ],\n",
       "         [0.48094725, 0.13225067]]],\n",
       "\n",
       "\n",
       "       [[[0.77280125, 0.91050822],\n",
       "         [0.66174877, 0.59204859],\n",
       "         [0.42626977, 0.52542276],\n",
       "         [0.74529778, 0.00988131]],\n",
       "\n",
       "        [[0.31387026, 0.16800016],\n",
       "         [0.3139026 , 0.57367625],\n",
       "         [0.3672812 , 0.39625165],\n",
       "         [0.85569416, 0.07354574]],\n",
       "\n",
       "        [[0.79775474, 0.02134609],\n",
       "         [0.82061687, 0.75941159],\n",
       "         [0.05980294, 0.94456022],\n",
       "         [0.09511692, 0.68181546]]]])"
      ]
     },
     "execution_count": 103,
     "metadata": {},
     "output_type": "execute_result"
    }
   ],
   "source": [
    "m = np.random.rand(2, 3, 4, 2)\n",
    "m"
   ]
  },
  {
   "cell_type": "code",
   "execution_count": 104,
   "id": "b43dfde7",
   "metadata": {},
   "outputs": [
    {
     "data": {
      "text/plain": [
       "4"
      ]
     },
     "execution_count": 104,
     "metadata": {},
     "output_type": "execute_result"
    }
   ],
   "source": [
    "m.ndim"
   ]
  },
  {
   "cell_type": "markdown",
   "id": "aaec1d8b",
   "metadata": {},
   "source": [
    "# Reshape"
   ]
  },
  {
   "cell_type": "code",
   "execution_count": 105,
   "id": "176dd83b",
   "metadata": {},
   "outputs": [
    {
     "data": {
      "text/plain": [
       "array([ 0,  1,  2,  3,  4,  5,  6,  7,  8,  9, 10, 11, 12, 13, 14, 15, 16,\n",
       "       17, 18, 19])"
      ]
     },
     "execution_count": 105,
     "metadata": {},
     "output_type": "execute_result"
    }
   ],
   "source": [
    "x = np.arange(20)\n",
    "x"
   ]
  },
  {
   "cell_type": "code",
   "execution_count": 108,
   "id": "15b1a7b3",
   "metadata": {},
   "outputs": [
    {
     "data": {
      "text/plain": [
       "array([[ 0,  1,  2,  3,  4,  5,  6,  7,  8,  9],\n",
       "       [10, 11, 12, 13, 14, 15, 16, 17, 18, 19]])"
      ]
     },
     "execution_count": 108,
     "metadata": {},
     "output_type": "execute_result"
    }
   ],
   "source": [
    "x.reshape(2,10)"
   ]
  },
  {
   "cell_type": "code",
   "execution_count": 109,
   "id": "55077622",
   "metadata": {},
   "outputs": [
    {
     "data": {
      "text/plain": [
       "array([[ 0,  1,  2,  3,  4],\n",
       "       [ 5,  6,  7,  8,  9],\n",
       "       [10, 11, 12, 13, 14],\n",
       "       [15, 16, 17, 18, 19]])"
      ]
     },
     "execution_count": 109,
     "metadata": {},
     "output_type": "execute_result"
    }
   ],
   "source": [
    "x.reshape(4, 5)"
   ]
  },
  {
   "cell_type": "code",
   "execution_count": 110,
   "id": "31039dd5",
   "metadata": {},
   "outputs": [
    {
     "data": {
      "text/plain": [
       "array([[[ 0,  1,  2,  3,  4],\n",
       "        [ 5,  6,  7,  8,  9]],\n",
       "\n",
       "       [[10, 11, 12, 13, 14],\n",
       "        [15, 16, 17, 18, 19]]])"
      ]
     },
     "execution_count": 110,
     "metadata": {},
     "output_type": "execute_result"
    }
   ],
   "source": [
    "x.reshape(2, 2, 5)"
   ]
  },
  {
   "cell_type": "markdown",
   "id": "5695b8c0",
   "metadata": {},
   "source": [
    "# numpy slicing"
   ]
  },
  {
   "cell_type": "code",
   "execution_count": 114,
   "id": "4c17ee12",
   "metadata": {},
   "outputs": [
    {
     "data": {
      "text/plain": [
       "array([3, 4, 5, 6, 7, 8, 9])"
      ]
     },
     "execution_count": 114,
     "metadata": {},
     "output_type": "execute_result"
    }
   ],
   "source": [
    "x = np.arange(100)\n",
    "b = x[3:10]\n",
    "b"
   ]
  },
  {
   "cell_type": "code",
   "execution_count": 115,
   "id": "999e8b41",
   "metadata": {},
   "outputs": [
    {
     "data": {
      "text/plain": [
       "array([  3,   4, 200,   6,   7,   8,   9])"
      ]
     },
     "execution_count": 115,
     "metadata": {},
     "output_type": "execute_result"
    }
   ],
   "source": [
    "b[2] = 200\n",
    "b"
   ]
  },
  {
   "cell_type": "code",
   "execution_count": 117,
   "id": "911a7e3c",
   "metadata": {},
   "outputs": [
    {
     "data": {
      "text/plain": [
       "array([  3,   4, 200,   6,   7,   8,   9])"
      ]
     },
     "execution_count": 117,
     "metadata": {},
     "output_type": "execute_result"
    }
   ],
   "source": [
    "# this also changes the element in x because the same memory is accessed in numpy\n",
    "# To ensure x is not affected and create another memory for b\n",
    "b = x[3:10].copy()\n",
    "b"
   ]
  },
  {
   "cell_type": "code",
   "execution_count": 122,
   "id": "df981025",
   "metadata": {},
   "outputs": [
    {
     "data": {
      "text/plain": [
       "array([ 0,  2,  4,  6,  8, 10, 12, 14, 16, 18, 20, 22, 24, 26, 28, 30, 32,\n",
       "       34, 36, 38, 40, 42, 44, 46, 48, 50, 52, 54, 56, 58, 60, 62, 64, 66,\n",
       "       68, 70, 72, 74, 76, 78, 80, 82, 84, 86, 88, 90, 92, 94, 96, 98])"
      ]
     },
     "execution_count": 122,
     "metadata": {},
     "output_type": "execute_result"
    }
   ],
   "source": [
    "x = np.arange(100)\n",
    "x[::2] # from start to end and step 5"
   ]
  },
  {
   "cell_type": "code",
   "execution_count": 124,
   "id": "40db6401",
   "metadata": {},
   "outputs": [
    {
     "data": {
      "text/plain": [
       "array([99, 94, 89, 84, 79, 74, 69, 64, 59, 54, 49, 44, 39, 34, 29, 24, 19,\n",
       "       14,  9,  4])"
      ]
     },
     "execution_count": 124,
     "metadata": {},
     "output_type": "execute_result"
    }
   ],
   "source": [
    "x[::-5] # from start to x and reverse step 5"
   ]
  },
  {
   "cell_type": "code",
   "execution_count": 128,
   "id": "2f791ab6",
   "metadata": {},
   "outputs": [
    {
     "data": {
      "text/plain": [
       "array([   0,    1,    2,    3, 1200,    5,    6,    7,    8,    9,   10,\n",
       "         11,   12,   13,   14,   15,   16,   17,   18,   19,   20,   21,\n",
       "         22,   23,   24,   25,   26,   27,   28,   29,   30,   31,   32,\n",
       "         33,   34,   35,   36,   37,   38,   39,   40,   41,   42,   43,\n",
       "         44,   45,   46,   47,   48,   49,   50,   51,   52,   53,   54,\n",
       "         55,   56,   57,   58,   59,   60,   61,   62,   63,   64,   65,\n",
       "         66,   67,   68,   69,   70,   71,   72,   73,   74,   75,   76,\n",
       "         77,   78,   79,   80,   81,   82,   83,   84,   85,   86,   87,\n",
       "         88,   89,   90,   91,   92,   93,   94,   95,   96,   97,   98,\n",
       "         99])"
      ]
     },
     "execution_count": 128,
     "metadata": {},
     "output_type": "execute_result"
    }
   ],
   "source": [
    "x[4] = 1200\n",
    "x"
   ]
  },
  {
   "cell_type": "code",
   "execution_count": 131,
   "id": "92c2e515",
   "metadata": {},
   "outputs": [
    {
     "data": {
      "text/plain": [
       "4"
      ]
     },
     "execution_count": 131,
     "metadata": {},
     "output_type": "execute_result"
    }
   ],
   "source": [
    "idx = np.argwhere(x==1200)[0][0] # get the index of an element in an array\n",
    "idx"
   ]
  },
  {
   "cell_type": "code",
   "execution_count": 135,
   "id": "19abfd77",
   "metadata": {},
   "outputs": [
    {
     "data": {
      "text/plain": [
       "array([[8., 4., 5., 2.],\n",
       "       [4., 9., 7., 5.],\n",
       "       [8., 8., 3., 7.],\n",
       "       [9., 9., 8., 2.],\n",
       "       [4., 8., 2., 7.]])"
      ]
     },
     "execution_count": 135,
     "metadata": {},
     "output_type": "execute_result"
    }
   ],
   "source": [
    "t = np.round(10*np.random.rand(5, 4))\n",
    "t"
   ]
  },
  {
   "cell_type": "code",
   "execution_count": 136,
   "id": "bfbc09e0",
   "metadata": {},
   "outputs": [
    {
     "data": {
      "text/plain": [
       "2"
      ]
     },
     "execution_count": 136,
     "metadata": {},
     "output_type": "execute_result"
    }
   ],
   "source": [
    "t.ndim"
   ]
  },
  {
   "cell_type": "code",
   "execution_count": 137,
   "id": "0488fe1d",
   "metadata": {},
   "outputs": [
    {
     "data": {
      "text/plain": [
       "(5, 4)"
      ]
     },
     "execution_count": 137,
     "metadata": {},
     "output_type": "execute_result"
    }
   ],
   "source": [
    "t.shape"
   ]
  },
  {
   "cell_type": "code",
   "execution_count": 139,
   "id": "e1af90d1",
   "metadata": {},
   "outputs": [
    {
     "data": {
      "text/plain": [
       "8.0"
      ]
     },
     "execution_count": 139,
     "metadata": {},
     "output_type": "execute_result"
    }
   ],
   "source": [
    "t[2,1] # 3rd array and 2nd element i.e 3rd row 2nd column"
   ]
  },
  {
   "cell_type": "code",
   "execution_count": 142,
   "id": "aaadb585",
   "metadata": {},
   "outputs": [
    {
     "data": {
      "text/plain": [
       "array([4., 9., 8., 9., 8.])"
      ]
     },
     "execution_count": 142,
     "metadata": {},
     "output_type": "execute_result"
    }
   ],
   "source": [
    "t[:, 1] # all rows 2nd column"
   ]
  },
  {
   "cell_type": "code",
   "execution_count": 145,
   "id": "99db3454",
   "metadata": {},
   "outputs": [
    {
     "data": {
      "text/plain": [
       "array([9., 9., 8., 2.])"
      ]
     },
     "execution_count": 145,
     "metadata": {},
     "output_type": "execute_result"
    }
   ],
   "source": [
    "t[3] # 3rd row array "
   ]
  },
  {
   "cell_type": "code",
   "execution_count": 146,
   "id": "4bbf12fe",
   "metadata": {},
   "outputs": [
    {
     "data": {
      "text/plain": [
       "array([[9., 9., 8., 2.],\n",
       "       [4., 8., 2., 7.]])"
      ]
     },
     "execution_count": 146,
     "metadata": {},
     "output_type": "execute_result"
    }
   ],
   "source": [
    "t[3:] # from 3rd array inclusive to the end"
   ]
  },
  {
   "cell_type": "code",
   "execution_count": 147,
   "id": "b70ba76a",
   "metadata": {},
   "outputs": [
    {
     "data": {
      "text/plain": [
       "array([[8., 4., 5., 2.],\n",
       "       [4., 9., 7., 5.]])"
      ]
     },
     "execution_count": 147,
     "metadata": {},
     "output_type": "execute_result"
    }
   ],
   "source": [
    "t[:2] # from beginning to 2nd array excluding the 2nd array"
   ]
  },
  {
   "cell_type": "code",
   "execution_count": 149,
   "id": "626b35c9",
   "metadata": {},
   "outputs": [
    {
     "data": {
      "text/plain": [
       "array([[4., 9., 7., 5.],\n",
       "       [8., 8., 3., 7.],\n",
       "       [9., 9., 8., 2.]])"
      ]
     },
     "execution_count": 149,
     "metadata": {},
     "output_type": "execute_result"
    }
   ],
   "source": [
    "t[1:4] # from 1st array inclusive to 4th array excluding"
   ]
  },
  {
   "cell_type": "code",
   "execution_count": 152,
   "id": "a37e87f3",
   "metadata": {},
   "outputs": [
    {
     "data": {
      "text/plain": [
       "array([[7., 5.],\n",
       "       [3., 7.]])"
      ]
     },
     "execution_count": 152,
     "metadata": {},
     "output_type": "execute_result"
    }
   ],
   "source": [
    "t[1:3, 2:4] #rows in 1st and 2nd arrays, then 2nd and 3th rows in that arrays"
   ]
  },
  {
   "cell_type": "code",
   "execution_count": 153,
   "id": "cd8b7ee7",
   "metadata": {},
   "outputs": [
    {
     "data": {
      "text/plain": [
       "array([[8., 4., 5., 2.],\n",
       "       [4., 9., 7., 5.],\n",
       "       [8., 8., 3., 7.],\n",
       "       [9., 9., 8., 2.],\n",
       "       [4., 8., 2., 7.]])"
      ]
     },
     "execution_count": 153,
     "metadata": {},
     "output_type": "execute_result"
    }
   ],
   "source": [
    "t"
   ]
  },
  {
   "cell_type": "code",
   "execution_count": 154,
   "id": "d41a6a2b",
   "metadata": {},
   "outputs": [
    {
     "data": {
      "text/plain": [
       "array([[8., 4., 8., 9., 4.],\n",
       "       [4., 9., 8., 9., 8.],\n",
       "       [5., 7., 3., 8., 2.],\n",
       "       [2., 5., 7., 2., 7.]])"
      ]
     },
     "execution_count": 154,
     "metadata": {},
     "output_type": "execute_result"
    }
   ],
   "source": [
    "t.T # t transpose"
   ]
  },
  {
   "cell_type": "code",
   "execution_count": 155,
   "id": "cd9ec38c",
   "metadata": {},
   "outputs": [
    {
     "data": {
      "text/plain": [
       "<function ndarray.transpose>"
      ]
     },
     "execution_count": 155,
     "metadata": {},
     "output_type": "execute_result"
    }
   ],
   "source": [
    "t.transpose"
   ]
  },
  {
   "cell_type": "code",
   "execution_count": 158,
   "id": "4502611e",
   "metadata": {},
   "outputs": [
    {
     "data": {
      "text/plain": [
       "array([[ 3.15251974e+15, -6.30503948e+15,  3.15251974e+15],\n",
       "       [-6.30503948e+15,  1.26100790e+16, -6.30503948e+15],\n",
       "       [ 3.15251974e+15, -6.30503948e+15,  3.15251974e+15]])"
      ]
     },
     "execution_count": 158,
     "metadata": {},
     "output_type": "execute_result"
    }
   ],
   "source": [
    "import numpy.linalg as la\n",
    "d = np.array([[1, 2, 3], [4, 5, 6], [7, 8, 9]])\n",
    "la.inv(d)"
   ]
  },
  {
   "cell_type": "code",
   "execution_count": 159,
   "id": "12bb9109",
   "metadata": {},
   "outputs": [
    {
     "data": {
      "text/plain": [
       "array([[  2.03059569,   0.74296496,  -1.8078905 ],\n",
       "       [-12.69013873,   2.73312987,   7.66220512],\n",
       "       [ 18.27112152,  -4.38757299,  -9.12930095]])"
      ]
     },
     "execution_count": 159,
     "metadata": {},
     "output_type": "execute_result"
    }
   ],
   "source": [
    "la.inv(np.random.rand(3,3))"
   ]
  },
  {
   "cell_type": "code",
   "execution_count": 160,
   "id": "52fef067",
   "metadata": {
    "scrolled": true
   },
   "outputs": [
    {
     "name": "stdout",
     "output_type": "stream",
     "text": [
      "Variable   Type       Data/Info\n",
      "-------------------------------\n",
      "A          ndarray    10: 10 elems, type `int64`, 80 bytes\n",
      "B          ndarray    55: 55 elems, type `int64`, 440 bytes\n",
      "C          ndarray    7: 7 elems, type `int64`, 56 bytes\n",
      "a          ndarray    5: 5 elems, type `int32`, 20 bytes\n",
      "a1         ndarray    100000: 100000 elems, type `int64`, 800000 bytes (781.25 kb)\n",
      "a2         ndarray    100000: 100000 elems, type `int64`, 800000 bytes (781.25 kb)\n",
      "b          ndarray    7: 7 elems, type `int64`, 56 bytes\n",
      "c          ndarray    2x3: 6 elems, type `int64`, 48 bytes\n",
      "d          ndarray    3x3: 9 elems, type `int64`, 72 bytes\n",
      "e          ndarray    4x3: 12 elems, type `int64`, 96 bytes\n",
      "f          ndarray    2x3x3: 18 elems, type `int64`, 144 bytes\n",
      "idx        int64      4\n",
      "l1         range      range(0, 100000)\n",
      "l2         range      range(0, 100000)\n",
      "la         module     <module 'numpy.linalg' fr<...>umpy/linalg/__init__.py'>\n",
      "m          ndarray    2x3x4x2: 48 elems, type `float64`, 384 bytes\n",
      "np         module     <module 'numpy' from '/ho<...>kages/numpy/__init__.py'>\n",
      "plt        module     <module 'matplotlib.pyplo<...>es/matplotlib/pyplot.py'>\n",
      "result     ndarray    100000: 100000 elems, type `int64`, 800000 bytes (781.25 kb)\n",
      "size       int        100000\n",
      "start      float      1631157248.6086638\n",
      "sys        module     <module 'sys' (built-in)>\n",
      "t          ndarray    5x4: 20 elems, type `float64`, 160 bytes\n",
      "time       module     <module 'time' (built-in)>\n",
      "v          ndarray    2x3: 6 elems, type `float64`, 48 bytes\n",
      "x          ndarray    100: 100 elems, type `int64`, 800 bytes\n",
      "y          ndarray    100000: 100000 elems, type `float64`, 800000 bytes (781.25 kb)\n"
     ]
    }
   ],
   "source": [
    "%whos"
   ]
  },
  {
   "cell_type": "code",
   "execution_count": 161,
   "id": "113a0bdb",
   "metadata": {},
   "outputs": [
    {
     "data": {
      "text/plain": [
       "array([[8., 4., 5., 2.],\n",
       "       [4., 9., 7., 5.],\n",
       "       [8., 8., 3., 7.],\n",
       "       [9., 9., 8., 2.],\n",
       "       [4., 8., 2., 7.]])"
      ]
     },
     "execution_count": 161,
     "metadata": {},
     "output_type": "execute_result"
    }
   ],
   "source": [
    "t"
   ]
  },
  {
   "cell_type": "code",
   "execution_count": 162,
   "id": "89124a3c",
   "metadata": {},
   "outputs": [],
   "source": [
    "t.sort(axis=0) # sort individual column element in acsending order"
   ]
  },
  {
   "cell_type": "code",
   "execution_count": 163,
   "id": "8643009d",
   "metadata": {},
   "outputs": [
    {
     "data": {
      "text/plain": [
       "array([[4., 4., 2., 2.],\n",
       "       [4., 8., 3., 2.],\n",
       "       [8., 8., 5., 5.],\n",
       "       [8., 9., 7., 7.],\n",
       "       [9., 9., 8., 7.]])"
      ]
     },
     "execution_count": 163,
     "metadata": {},
     "output_type": "execute_result"
    }
   ],
   "source": [
    "t"
   ]
  },
  {
   "cell_type": "code",
   "execution_count": 164,
   "id": "37199a75",
   "metadata": {},
   "outputs": [
    {
     "data": {
      "text/plain": [
       "array([[2., 2., 4., 4.],\n",
       "       [2., 3., 4., 8.],\n",
       "       [5., 5., 8., 8.],\n",
       "       [7., 7., 8., 9.],\n",
       "       [7., 8., 9., 9.]])"
      ]
     },
     "execution_count": 164,
     "metadata": {},
     "output_type": "execute_result"
    }
   ],
   "source": [
    "t.sort(axis=1) # sort individual row element in acsending order\n",
    "t"
   ]
  },
  {
   "cell_type": "code",
   "execution_count": 3,
   "id": "d3170858",
   "metadata": {},
   "outputs": [
    {
     "data": {
      "text/plain": [
       "array([[6.+0.j, 6.+0.j, 6.+0.j],\n",
       "       [6.+0.j, 6.+0.j, 6.+0.j],\n",
       "       [6.+0.j, 6.+0.j, 6.+0.j]])"
      ]
     },
     "execution_count": 3,
     "metadata": {},
     "output_type": "execute_result"
    }
   ],
   "source": [
    "import numpy as np\n",
    "# create a constant value of complext type\n",
    "d = np.full((3, 3), 6, dtype='complex')\n",
    "d"
   ]
  },
  {
   "cell_type": "code",
   "execution_count": 6,
   "id": "fb4d49b4",
   "metadata": {},
   "outputs": [
    {
     "data": {
      "text/plain": [
       "array([0. , 0.5, 1. , 1.5, 2. , 2.5, 3. , 3.5, 4. , 4.5, 5. ])"
      ]
     },
     "execution_count": 6,
     "metadata": {},
     "output_type": "execute_result"
    }
   ],
   "source": [
    "# create a sequence of 11 values in range 0 to 5\n",
    "g = np.linspace(0, 5, 11)\n",
    "g"
   ]
  },
  {
   "cell_type": "code",
   "execution_count": 9,
   "id": "2f833d8c",
   "metadata": {},
   "outputs": [
    {
     "data": {
      "text/plain": [
       "array([[[1, 2, 3],\n",
       "        [4, 5, 6]],\n",
       "\n",
       "       [[1, 2, 3],\n",
       "        [4, 5, 6]]])"
      ]
     },
     "execution_count": 9,
     "metadata": {},
     "output_type": "execute_result"
    }
   ],
   "source": [
    "# flatten array\n",
    "arr = np.array([[[1, 2, 3], [4, 5, 6]], [[1, 2, 3], [4, 5, 6]]])\n",
    "flarr = arr.flatten()\n",
    "arr"
   ]
  },
  {
   "cell_type": "code",
   "execution_count": 10,
   "id": "f72d217f",
   "metadata": {},
   "outputs": [
    {
     "data": {
      "text/plain": [
       "array([1, 2, 3, 4, 5, 6, 1, 2, 3, 4, 5, 6])"
      ]
     },
     "execution_count": 10,
     "metadata": {},
     "output_type": "execute_result"
    }
   ],
   "source": [
    "flarr"
   ]
  },
  {
   "cell_type": "code",
   "execution_count": 13,
   "id": "1233c7ef",
   "metadata": {},
   "outputs": [
    {
     "data": {
      "text/plain": [
       "matrix([[ 0,  1,  2,  3],\n",
       "        [ 4,  5,  6,  7],\n",
       "        [ 8,  9, 10, 11]])"
      ]
     },
     "execution_count": 13,
     "metadata": {},
     "output_type": "execute_result"
    }
   ],
   "source": [
    "# np.matrix returns a matrix from array-like objects\n",
    "y = np.matrix(np.arange(12).reshape((3, 4)))\n",
    "y"
   ]
  },
  {
   "cell_type": "code",
   "execution_count": 17,
   "id": "73a845fa",
   "metadata": {},
   "outputs": [
    {
     "data": {
      "text/plain": [
       "matrix([[5, 6, 7],\n",
       "        [2, 3, 1]])"
      ]
     },
     "execution_count": 17,
     "metadata": {},
     "output_type": "execute_result"
    }
   ],
   "source": [
    "z = np.matrix([[5, 6, 7], [2, 3, 1]])\n",
    "z"
   ]
  },
  {
   "cell_type": "code",
   "execution_count": 18,
   "id": "775d6328",
   "metadata": {},
   "outputs": [
    {
     "data": {
      "text/plain": [
       "array([[5, 6, 7],\n",
       "       [2, 3, 1]])"
      ]
     },
     "execution_count": 18,
     "metadata": {},
     "output_type": "execute_result"
    }
   ],
   "source": [
    "z = np.array([[5, 6, 7], [2, 3, 1]])\n",
    "z"
   ]
  },
  {
   "cell_type": "markdown",
   "id": "07d50ee8",
   "metadata": {},
   "source": [
    "# # Python program to demonstrate binary operators in Numpy"
   ]
  },
  {
   "cell_type": "code",
   "execution_count": 23,
   "id": "2a3bc06f",
   "metadata": {},
   "outputs": [
    {
     "name": "stdout",
     "output_type": "stream",
     "text": [
      "Array 1 = \n",
      " [[1 2]\n",
      " [3 4]]\n",
      "Array 2 = \n",
      " [[15 -4]\n",
      " [ 7 -3]]\n"
     ]
    }
   ],
   "source": [
    "arr1 = np.array([[1, 2], [3, 4]])\n",
    "arr2 = np.array([[15, -4], [7, -3]])\n",
    "print('Array 1 = \\n', arr1)\n",
    "print('Array 2 = \\n', arr2)"
   ]
  },
  {
   "cell_type": "code",
   "execution_count": 22,
   "id": "3501fc66",
   "metadata": {},
   "outputs": [
    {
     "name": "stdout",
     "output_type": "stream",
     "text": [
      "Array sum = \n",
      " [[16 -2]\n",
      " [10  1]]\n"
     ]
    }
   ],
   "source": [
    "print('Array sum = \\n', arr1 + arr2)"
   ]
  },
  {
   "cell_type": "code",
   "execution_count": 24,
   "id": "333bc44c",
   "metadata": {},
   "outputs": [
    {
     "name": "stdout",
     "output_type": "stream",
     "text": [
      "Array multiplication = \n",
      " [[ 15  -8]\n",
      " [ 21 -12]]\n"
     ]
    }
   ],
   "source": [
    "print('Array multiplication = \\n', arr1 * arr2)"
   ]
  },
  {
   "cell_type": "code",
   "execution_count": 25,
   "id": "0a25e3a6",
   "metadata": {},
   "outputs": [
    {
     "name": "stdout",
     "output_type": "stream",
     "text": [
      "Matrix multiplication of arrays = \n",
      " [[ 29 -10]\n",
      " [ 73 -24]]\n"
     ]
    }
   ],
   "source": [
    "print('Matrix multiplication of arrays = \\n', arr1.dot(arr2))"
   ]
  },
  {
   "cell_type": "code",
   "execution_count": 26,
   "id": "a7582eb6",
   "metadata": {},
   "outputs": [
    {
     "data": {
      "text/plain": [
       "array([[ 29, -10],\n",
       "       [ 73, -24]])"
      ]
     },
     "execution_count": 26,
     "metadata": {},
     "output_type": "execute_result"
    }
   ],
   "source": [
    "np.dot(arr1, arr2)"
   ]
  },
  {
   "cell_type": "code",
   "execution_count": null,
   "id": "1ee08368",
   "metadata": {},
   "outputs": [],
   "source": []
  },
  {
   "cell_type": "code",
   "execution_count": null,
   "id": "79257c81",
   "metadata": {},
   "outputs": [],
   "source": []
  }
 ],
 "metadata": {
  "kernelspec": {
   "display_name": "Python 3 (ipykernel)",
   "language": "python",
   "name": "python3"
  },
  "language_info": {
   "codemirror_mode": {
    "name": "ipython",
    "version": 3
   },
   "file_extension": ".py",
   "mimetype": "text/x-python",
   "name": "python",
   "nbconvert_exporter": "python",
   "pygments_lexer": "ipython3",
   "version": "3.8.10"
  }
 },
 "nbformat": 4,
 "nbformat_minor": 5
}
