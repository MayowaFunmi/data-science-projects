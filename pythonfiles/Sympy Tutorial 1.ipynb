{
 "cells": [
  {
   "cell_type": "code",
   "execution_count": 12,
   "id": "88c85e9a",
   "metadata": {},
   "outputs": [],
   "source": [
    "from sympy import symbols, exp"
   ]
  },
  {
   "cell_type": "code",
   "execution_count": 3,
   "id": "9a2d5051",
   "metadata": {},
   "outputs": [],
   "source": [
    "c = symbols('b')\n",
    "d = symbols('y')\n",
    "a, b = symbols('g n')"
   ]
  },
  {
   "cell_type": "code",
   "execution_count": 4,
   "id": "36d0c583",
   "metadata": {},
   "outputs": [
    {
     "data": {
      "text/latex": [
       "$\\displaystyle b$"
      ],
      "text/plain": [
       "b"
      ]
     },
     "execution_count": 4,
     "metadata": {},
     "output_type": "execute_result"
    }
   ],
   "source": [
    "c"
   ]
  },
  {
   "cell_type": "code",
   "execution_count": 5,
   "id": "55f98d59",
   "metadata": {},
   "outputs": [
    {
     "data": {
      "text/latex": [
       "$\\displaystyle y$"
      ],
      "text/plain": [
       "y"
      ]
     },
     "execution_count": 5,
     "metadata": {},
     "output_type": "execute_result"
    }
   ],
   "source": [
    "d"
   ]
  },
  {
   "cell_type": "code",
   "execution_count": 6,
   "id": "e8671620",
   "metadata": {},
   "outputs": [
    {
     "data": {
      "text/latex": [
       "$\\displaystyle n$"
      ],
      "text/plain": [
       "n"
      ]
     },
     "execution_count": 6,
     "metadata": {},
     "output_type": "execute_result"
    }
   ],
   "source": [
    "b"
   ]
  },
  {
   "cell_type": "markdown",
   "id": "8bf2598e",
   "metadata": {},
   "source": [
    "# Expressions"
   ]
  },
  {
   "cell_type": "code",
   "execution_count": 7,
   "id": "a72f8ab3",
   "metadata": {},
   "outputs": [
    {
     "data": {
      "text/latex": [
       "$\\displaystyle 2 x + y$"
      ],
      "text/plain": [
       "2*x + y"
      ]
     },
     "execution_count": 7,
     "metadata": {},
     "output_type": "execute_result"
    }
   ],
   "source": [
    "x, y = symbols('x y')\n",
    "expr = 2*x + y\n",
    "expr"
   ]
  },
  {
   "cell_type": "code",
   "execution_count": 8,
   "id": "6480d83d",
   "metadata": {},
   "outputs": [
    {
     "name": "stdout",
     "output_type": "stream",
     "text": [
      "2*x + y\n"
     ]
    }
   ],
   "source": [
    "print(expr)"
   ]
  },
  {
   "cell_type": "code",
   "execution_count": 9,
   "id": "1e82fe72",
   "metadata": {},
   "outputs": [
    {
     "data": {
      "text/latex": [
       "$\\displaystyle y + 6$"
      ],
      "text/plain": [
       "y + 6"
      ]
     },
     "execution_count": 9,
     "metadata": {},
     "output_type": "execute_result"
    }
   ],
   "source": [
    "# substitution: when x = 3\n",
    "expr.subs(x, 3)"
   ]
  },
  {
   "cell_type": "code",
   "execution_count": 10,
   "id": "6f85a273",
   "metadata": {},
   "outputs": [
    {
     "data": {
      "text/latex": [
       "$\\displaystyle 2 x - 4$"
      ],
      "text/plain": [
       "2*x - 4"
      ]
     },
     "execution_count": 10,
     "metadata": {},
     "output_type": "execute_result"
    }
   ],
   "source": [
    "# when y = -4\n",
    "expr.subs(y, -4)"
   ]
  },
  {
   "cell_type": "code",
   "execution_count": 11,
   "id": "da4be73f",
   "metadata": {},
   "outputs": [
    {
     "data": {
      "text/latex": [
       "$\\displaystyle 2$"
      ],
      "text/plain": [
       "2"
      ]
     },
     "execution_count": 11,
     "metadata": {},
     "output_type": "execute_result"
    }
   ],
   "source": [
    "# when x = 3 and y = -4\n",
    "expr.subs(x, 3).subs(y, -4)"
   ]
  },
  {
   "cell_type": "markdown",
   "id": "2fddc72b",
   "metadata": {},
   "source": [
    "# quadratic expressions"
   ]
  },
  {
   "cell_type": "code",
   "execution_count": 13,
   "id": "3b443d42",
   "metadata": {},
   "outputs": [
    {
     "data": {
      "text/latex": [
       "$\\displaystyle 2 x^{2} + y + \\frac{1}{z^{3}}$"
      ],
      "text/plain": [
       "2*x**2 + y + z**(-3)"
      ]
     },
     "execution_count": 13,
     "metadata": {},
     "output_type": "execute_result"
    }
   ],
   "source": [
    "x, y, z = symbols('x y z')\n",
    "expr = y + 2*x**2 + z**(-3)\n",
    "expr"
   ]
  },
  {
   "cell_type": "code",
   "execution_count": 14,
   "id": "9c01d9de",
   "metadata": {},
   "outputs": [
    {
     "data": {
      "text/plain": [
       "sympy.core.add.Add"
      ]
     },
     "execution_count": 14,
     "metadata": {},
     "output_type": "execute_result"
    }
   ],
   "source": [
    "type(expr)"
   ]
  },
  {
   "cell_type": "code",
   "execution_count": 18,
   "id": "6aa096e9",
   "metadata": {},
   "outputs": [
    {
     "data": {
      "text/latex": [
       "$\\displaystyle 4 x^{2} + \\frac{1}{z^{3}}$"
      ],
      "text/plain": [
       "4*x**2 + z**(-3)"
      ]
     },
     "execution_count": 18,
     "metadata": {},
     "output_type": "execute_result"
    }
   ],
   "source": [
    "expr2 = expr.subs(y, 2*x**2)\n",
    "expr2"
   ]
  },
  {
   "cell_type": "code",
   "execution_count": 21,
   "id": "4f242225",
   "metadata": {},
   "outputs": [
    {
     "data": {
      "text/latex": [
       "$\\displaystyle n e^{- \\frac{Q}{R T}}$"
      ],
      "text/plain": [
       "n*exp(-Q/(R*T))"
      ]
     },
     "execution_count": 21,
     "metadata": {},
     "output_type": "execute_result"
    }
   ],
   "source": [
    "n, Q, R, T = symbols('n, Q, R, T')\n",
    "expr = n*exp(-Q/(R*T))\n",
    "expr"
   ]
  },
  {
   "cell_type": "code",
   "execution_count": 22,
   "id": "3adf691a",
   "metadata": {
    "scrolled": true
   },
   "outputs": [
    {
     "data": {
      "text/latex": [
       "$\\displaystyle \\frac{3.48 \\cdot 10^{-6}}{e^{\\frac{12700}{10223463}}}$"
      ],
      "text/plain": [
       "3.48e-6*exp(-12700/10223463)"
      ]
     },
     "execution_count": 22,
     "metadata": {},
     "output_type": "execute_result"
    }
   ],
   "source": [
    "total = expr.subs(n, 3.48e-6).subs(Q, 12700).subs(R, 8031).subs(T, 1000+273)\n",
    "total"
   ]
  },
  {
   "cell_type": "code",
   "execution_count": 23,
   "id": "93b74dfb",
   "metadata": {},
   "outputs": [
    {
     "data": {
      "text/latex": [
       "$\\displaystyle 3.47567968697765 \\cdot 10^{-6}$"
      ],
      "text/plain": [
       "3.47567968697765e-6"
      ]
     },
     "execution_count": 23,
     "metadata": {},
     "output_type": "execute_result"
    }
   ],
   "source": [
    "total.evalf()"
   ]
  },
  {
   "cell_type": "code",
   "execution_count": 24,
   "id": "f36564ec",
   "metadata": {},
   "outputs": [
    {
     "data": {
      "text/latex": [
       "$\\displaystyle 3.476 \\cdot 10^{-6}$"
      ],
      "text/plain": [
       "3.476e-6"
      ]
     },
     "execution_count": 24,
     "metadata": {},
     "output_type": "execute_result"
    }
   ],
   "source": [
    "total.evalf(4)"
   ]
  },
  {
   "cell_type": "markdown",
   "id": "af83ab52",
   "metadata": {},
   "source": [
    "# Defining Symbols"
   ]
  },
  {
   "cell_type": "code",
   "execution_count": 26,
   "id": "9122ce75",
   "metadata": {},
   "outputs": [
    {
     "data": {
      "text/latex": [
       "$\\displaystyle \\sin^{2}{\\left(x \\right)} + \\cos^{2}{\\left(x \\right)}$"
      ],
      "text/plain": [
       "sin(x)**2 + cos(x)**2"
      ]
     },
     "execution_count": 26,
     "metadata": {},
     "output_type": "execute_result"
    }
   ],
   "source": [
    "import sympy as sp\n",
    "x = sp.Symbol('x')\n",
    "sp.sin(x)**2 + sp.cos(x)**2"
   ]
  },
  {
   "cell_type": "code",
   "execution_count": 27,
   "id": "4125bcfb",
   "metadata": {},
   "outputs": [
    {
     "data": {
      "text/latex": [
       "$\\displaystyle \\frac{x}{3}$"
      ],
      "text/plain": [
       "x/3"
      ]
     },
     "execution_count": 27,
     "metadata": {},
     "output_type": "execute_result"
    }
   ],
   "source": [
    "2*x/6"
   ]
  },
  {
   "cell_type": "markdown",
   "id": "ee6393a0",
   "metadata": {},
   "source": [
    "# expandind expressions"
   ]
  },
  {
   "cell_type": "code",
   "execution_count": 28,
   "id": "e148c3bf",
   "metadata": {},
   "outputs": [
    {
     "data": {
      "text/latex": [
       "$\\displaystyle x \\left(x + 2\\right)$"
      ],
      "text/plain": [
       "x*(x + 2)"
      ]
     },
     "execution_count": 28,
     "metadata": {},
     "output_type": "execute_result"
    }
   ],
   "source": [
    "expr = x*(x+2)\n",
    "expr"
   ]
  },
  {
   "cell_type": "code",
   "execution_count": 29,
   "id": "a276b0a3",
   "metadata": {},
   "outputs": [
    {
     "data": {
      "text/latex": [
       "$\\displaystyle x^{2} + 2 x$"
      ],
      "text/plain": [
       "x**2 + 2*x"
      ]
     },
     "execution_count": 29,
     "metadata": {},
     "output_type": "execute_result"
    }
   ],
   "source": [
    "expr.expand()"
   ]
  },
  {
   "cell_type": "code",
   "execution_count": 30,
   "id": "ccf58832",
   "metadata": {},
   "outputs": [
    {
     "data": {
      "text/latex": [
       "$\\displaystyle x^{2} + 2 x$"
      ],
      "text/plain": [
       "x**2 + 2*x"
      ]
     },
     "execution_count": 30,
     "metadata": {},
     "output_type": "execute_result"
    }
   ],
   "source": [
    "sp.expand(expr)"
   ]
  },
  {
   "cell_type": "code",
   "execution_count": 32,
   "id": "ea28978f",
   "metadata": {},
   "outputs": [
    {
     "data": {
      "text/latex": [
       "$\\displaystyle s$"
      ],
      "text/plain": [
       "s"
      ]
     },
     "execution_count": 32,
     "metadata": {},
     "output_type": "execute_result"
    }
   ],
   "source": [
    "s, t = sp.symbols('s, t')\n",
    "s"
   ]
  },
  {
   "cell_type": "code",
   "execution_count": 33,
   "id": "3d17c8e7",
   "metadata": {},
   "outputs": [
    {
     "data": {
      "text/latex": [
       "$\\displaystyle t \\left(s + 2\\right) \\left(t - 3\\right)$"
      ],
      "text/plain": [
       "t*(s + 2)*(t - 3)"
      ]
     },
     "execution_count": 33,
     "metadata": {},
     "output_type": "execute_result"
    }
   ],
   "source": [
    "poly = t*(s+2)*(t-3)\n",
    "poly"
   ]
  },
  {
   "cell_type": "code",
   "execution_count": 34,
   "id": "e1118751",
   "metadata": {},
   "outputs": [
    {
     "data": {
      "text/latex": [
       "$\\displaystyle s t^{2} - 3 s t + 2 t^{2} - 6 t$"
      ],
      "text/plain": [
       "s*t**2 - 3*s*t + 2*t**2 - 6*t"
      ]
     },
     "execution_count": 34,
     "metadata": {},
     "output_type": "execute_result"
    }
   ],
   "source": [
    "poly.expand()"
   ]
  },
  {
   "cell_type": "markdown",
   "id": "7a441674",
   "metadata": {},
   "source": [
    "# factor expressions"
   ]
  },
  {
   "cell_type": "code",
   "execution_count": 37,
   "id": "9dd4dc33",
   "metadata": {},
   "outputs": [
    {
     "data": {
      "text/latex": [
       "$\\displaystyle x^{2} + 2 x - 15$"
      ],
      "text/plain": [
       "x**2 + 2*x - 15"
      ]
     },
     "execution_count": 37,
     "metadata": {},
     "output_type": "execute_result"
    }
   ],
   "source": [
    "expr = x**2 + 2*x - 15\n",
    "expr"
   ]
  },
  {
   "cell_type": "code",
   "execution_count": 38,
   "id": "2f080a92",
   "metadata": {},
   "outputs": [
    {
     "data": {
      "text/latex": [
       "$\\displaystyle \\left(x - 3\\right) \\left(x + 5\\right)$"
      ],
      "text/plain": [
       "(x - 3)*(x + 5)"
      ]
     },
     "execution_count": 38,
     "metadata": {},
     "output_type": "execute_result"
    }
   ],
   "source": [
    "expr.factor()"
   ]
  },
  {
   "cell_type": "markdown",
   "id": "c5048d2f",
   "metadata": {},
   "source": [
    "# multiple symbols"
   ]
  },
  {
   "cell_type": "code",
   "execution_count": 42,
   "id": "9302d4a9",
   "metadata": {},
   "outputs": [
    {
     "data": {
      "text/plain": [
       "(x0, x1, x2, x3, x4, x5, x6, x7, x8, x9)"
      ]
     },
     "execution_count": 42,
     "metadata": {},
     "output_type": "execute_result"
    }
   ],
   "source": [
    "x_v = sp.symbols('x0:10')\n",
    "x_v"
   ]
  },
  {
   "cell_type": "code",
   "execution_count": 43,
   "id": "41aea046",
   "metadata": {},
   "outputs": [
    {
     "data": {
      "text/latex": [
       "$\\displaystyle x_{0}^{2} x_{1} x_{2} + x_{0} x_{1} x_{2}$"
      ],
      "text/plain": [
       "x0**2*x1*x2 + x0*x1*x2"
      ]
     },
     "execution_count": 43,
     "metadata": {},
     "output_type": "execute_result"
    }
   ],
   "source": [
    "ex = x_v[0]**2 * x_v[1] *x_v[2] + x_v[0] * x_v[1] * x_v[2]\n",
    "ex"
   ]
  },
  {
   "cell_type": "code",
   "execution_count": 44,
   "id": "006c8542",
   "metadata": {},
   "outputs": [
    {
     "data": {
      "text/latex": [
       "$\\displaystyle x_{0} x_{1} x_{2} \\left(x_{0} + 1\\right)$"
      ],
      "text/plain": [
       "x0*x1*x2*(x0 + 1)"
      ]
     },
     "execution_count": 44,
     "metadata": {},
     "output_type": "execute_result"
    }
   ],
   "source": [
    "ex.factor()"
   ]
  },
  {
   "cell_type": "markdown",
   "id": "a53cd362",
   "metadata": {},
   "source": [
    "# Data Types in Sympy"
   ]
  },
  {
   "cell_type": "code",
   "execution_count": 45,
   "id": "be257f12",
   "metadata": {},
   "outputs": [
    {
     "data": {
      "text/latex": [
       "$\\displaystyle x^{0.333333333333333}$"
      ],
      "text/plain": [
       "x**0.333333333333333"
      ]
     },
     "execution_count": 45,
     "metadata": {},
     "output_type": "execute_result"
    }
   ],
   "source": [
    "expr = x**(1/3)\n",
    "expr"
   ]
  },
  {
   "cell_type": "code",
   "execution_count": 49,
   "id": "4d3e2fcb",
   "metadata": {},
   "outputs": [
    {
     "data": {
      "text/latex": [
       "$\\displaystyle \\sqrt[5]{x}$"
      ],
      "text/plain": [
       "x**(1/5)"
      ]
     },
     "execution_count": 49,
     "metadata": {},
     "output_type": "execute_result"
    }
   ],
   "source": [
    "# Use sympy integer type\n",
    "expr = x ** (sp.Integer(1) / sp.Integer(5))\n",
    "expr"
   ]
  },
  {
   "cell_type": "code",
   "execution_count": 50,
   "id": "79876f1c",
   "metadata": {},
   "outputs": [
    {
     "data": {
      "text/latex": [
       "$\\displaystyle \\sqrt[15]{x}$"
      ],
      "text/plain": [
       "x**(1/15)"
      ]
     },
     "execution_count": 50,
     "metadata": {},
     "output_type": "execute_result"
    }
   ],
   "source": [
    "expr ** (sp.Integer(1) / sp.Integer(3))"
   ]
  },
  {
   "cell_type": "markdown",
   "id": "3825a34d",
   "metadata": {},
   "source": [
    "# Rational Data Type"
   ]
  },
  {
   "cell_type": "code",
   "execution_count": 51,
   "id": "ab977a8c",
   "metadata": {},
   "outputs": [
    {
     "data": {
      "text/latex": [
       "$\\displaystyle \\frac{1}{4}$"
      ],
      "text/plain": [
       "1/4"
      ]
     },
     "execution_count": 51,
     "metadata": {},
     "output_type": "execute_result"
    }
   ],
   "source": [
    "rat = sp.Rational(1, 4)\n",
    "rat"
   ]
  },
  {
   "cell_type": "code",
   "execution_count": 54,
   "id": "597a3f59",
   "metadata": {},
   "outputs": [
    {
     "data": {
      "text/latex": [
       "$\\displaystyle \\sqrt[12]{x}$"
      ],
      "text/plain": [
       "x**(1/12)"
      ]
     },
     "execution_count": 54,
     "metadata": {},
     "output_type": "execute_result"
    }
   ],
   "source": [
    "expr = (x ** sp.Rational(1, 3)) ** sp.Rational(1, 4)\n",
    "expr"
   ]
  },
  {
   "cell_type": "markdown",
   "id": "6eb2d47d",
   "metadata": {},
   "source": [
    "# Important Constants"
   ]
  },
  {
   "cell_type": "code",
   "execution_count": 55,
   "id": "44989d2d",
   "metadata": {},
   "outputs": [
    {
     "data": {
      "text/latex": [
       "$\\displaystyle \\pi$"
      ],
      "text/plain": [
       "pi"
      ]
     },
     "execution_count": 55,
     "metadata": {},
     "output_type": "execute_result"
    }
   ],
   "source": [
    "# the constant pi\n",
    "sp.pi"
   ]
  },
  {
   "cell_type": "code",
   "execution_count": 56,
   "id": "965db5e2",
   "metadata": {},
   "outputs": [
    {
     "data": {
      "text/latex": [
       "$\\displaystyle 3 \\pi$"
      ],
      "text/plain": [
       "3*pi"
      ]
     },
     "execution_count": 56,
     "metadata": {},
     "output_type": "execute_result"
    }
   ],
   "source": [
    "3 * sp.pi"
   ]
  },
  {
   "cell_type": "code",
   "execution_count": 57,
   "id": "2545cc5a",
   "metadata": {},
   "outputs": [
    {
     "data": {
      "text/latex": [
       "$\\displaystyle e$"
      ],
      "text/plain": [
       "E"
      ]
     },
     "execution_count": 57,
     "metadata": {},
     "output_type": "execute_result"
    }
   ],
   "source": [
    "# the constant e\n",
    "sp.E"
   ]
  },
  {
   "cell_type": "code",
   "execution_count": 58,
   "id": "26072a68",
   "metadata": {},
   "outputs": [
    {
     "data": {
      "text/latex": [
       "$\\displaystyle e + \\pi$"
      ],
      "text/plain": [
       "E + pi"
      ]
     },
     "execution_count": 58,
     "metadata": {},
     "output_type": "execute_result"
    }
   ],
   "source": [
    "sp.E + sp.pi"
   ]
  },
  {
   "cell_type": "code",
   "execution_count": 59,
   "id": "f6a12a35",
   "metadata": {},
   "outputs": [
    {
     "data": {
      "text/latex": [
       "$\\displaystyle \\infty$"
      ],
      "text/plain": [
       "oo"
      ]
     },
     "execution_count": 59,
     "metadata": {},
     "output_type": "execute_result"
    }
   ],
   "source": [
    "# the infinity\n",
    "sp.oo"
   ]
  },
  {
   "cell_type": "markdown",
   "id": "23c3612c",
   "metadata": {},
   "source": [
    "# the imaginary unit\n",
    "sp.I"
   ]
  },
  {
   "cell_type": "code",
   "execution_count": 60,
   "id": "425df1b9",
   "metadata": {},
   "outputs": [
    {
     "data": {
      "text/latex": [
       "$\\displaystyle i$"
      ],
      "text/plain": [
       "I"
      ]
     },
     "execution_count": 60,
     "metadata": {},
     "output_type": "execute_result"
    }
   ],
   "source": [
    "sp.I"
   ]
  },
  {
   "cell_type": "code",
   "execution_count": 61,
   "id": "659e5e7d",
   "metadata": {},
   "outputs": [
    {
     "data": {
      "text/latex": [
       "$\\displaystyle -1$"
      ],
      "text/plain": [
       "-1"
      ]
     },
     "execution_count": 61,
     "metadata": {},
     "output_type": "execute_result"
    }
   ],
   "source": [
    "sp.I ** 2"
   ]
  },
  {
   "cell_type": "markdown",
   "id": "51d9aac0",
   "metadata": {},
   "source": [
    "# common functions"
   ]
  },
  {
   "cell_type": "code",
   "execution_count": 66,
   "id": "22228351",
   "metadata": {},
   "outputs": [
    {
     "data": {
      "text/latex": [
       "$\\displaystyle e^{2 x}$"
      ],
      "text/plain": [
       "exp(2*x)"
      ]
     },
     "execution_count": 66,
     "metadata": {},
     "output_type": "execute_result"
    }
   ],
   "source": [
    "# eponential functions\n",
    "sp.exp(2*x)"
   ]
  },
  {
   "cell_type": "code",
   "execution_count": 67,
   "id": "05d90421",
   "metadata": {},
   "outputs": [
    {
     "data": {
      "text/latex": [
       "$\\displaystyle -1$"
      ],
      "text/plain": [
       "-1"
      ]
     },
     "execution_count": 67,
     "metadata": {},
     "output_type": "execute_result"
    }
   ],
   "source": [
    "# Eulers identity\n",
    "sp.exp(sp.pi * sp.I)"
   ]
  },
  {
   "cell_type": "code",
   "execution_count": 68,
   "id": "c3e27d76",
   "metadata": {},
   "outputs": [
    {
     "data": {
      "text/latex": [
       "$\\displaystyle \\log{\\left(x \\right)}$"
      ],
      "text/plain": [
       "log(x)"
      ]
     },
     "execution_count": 68,
     "metadata": {},
     "output_type": "execute_result"
    }
   ],
   "source": [
    "# logarithm function\n",
    "sp.log(x)"
   ]
  },
  {
   "cell_type": "code",
   "execution_count": 70,
   "id": "988a0ee3",
   "metadata": {},
   "outputs": [
    {
     "data": {
      "text/latex": [
       "$\\displaystyle x$"
      ],
      "text/plain": [
       "x"
      ]
     },
     "execution_count": 70,
     "metadata": {},
     "output_type": "execute_result"
    }
   ],
   "source": [
    "sp.exp(sp.log(x))"
   ]
  },
  {
   "cell_type": "code",
   "execution_count": null,
   "id": "2095b3e1",
   "metadata": {},
   "outputs": [],
   "source": [
    "# trig functions\n",
    "expr = x ** 2 + sp.sin(s)"
   ]
  }
 ],
 "metadata": {
  "kernelspec": {
   "display_name": "Python 3 (ipykernel)",
   "language": "python",
   "name": "python3"
  },
  "language_info": {
   "codemirror_mode": {
    "name": "ipython",
    "version": 3
   },
   "file_extension": ".py",
   "mimetype": "text/x-python",
   "name": "python",
   "nbconvert_exporter": "python",
   "pygments_lexer": "ipython3",
   "version": "3.8.8"
  }
 },
 "nbformat": 4,
 "nbformat_minor": 5
}
